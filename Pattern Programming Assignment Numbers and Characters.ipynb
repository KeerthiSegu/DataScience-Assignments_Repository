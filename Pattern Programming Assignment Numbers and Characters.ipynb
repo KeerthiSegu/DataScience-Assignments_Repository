{
 "cells": [
  {
   "cell_type": "markdown",
   "id": "c04d1952",
   "metadata": {},
   "source": [
    "# <h2> pattern 1</h2>"
   ]
  },
  {
   "cell_type": "code",
   "execution_count": 89,
   "id": "40fea3d1",
   "metadata": {},
   "outputs": [
    {
     "name": "stdout",
     "output_type": "stream",
     "text": [
      "1 \n",
      "1 2 \n",
      "1 2 3 \n",
      "1 2 3 4 \n",
      "1 2 3 4 5 \n"
     ]
    }
   ],
   "source": [
    "for i in range(1,6):\n",
    "    for j in range(1,i+1):\n",
    "        print(j,end=\" \")\n",
    "    print()"
   ]
  },
  {
   "cell_type": "markdown",
   "id": "5522f13f",
   "metadata": {},
   "source": [
    "<h2> Pattern 2</h2>"
   ]
  },
  {
   "cell_type": "code",
   "execution_count": 47,
   "id": "b1dfc5c0",
   "metadata": {},
   "outputs": [
    {
     "name": "stdout",
     "output_type": "stream",
     "text": [
      "A \n",
      "A B \n",
      "A B C \n",
      "A B C D \n",
      "A B C D E \n",
      "\n",
      "\n"
     ]
    }
   ],
   "source": [
    "a=\"\"\n",
    "for i in range(65,70):\n",
    "    a=a+chr(i)+\" \"\n",
    "    print(a)\n",
    "print(\"\\n\")"
   ]
  },
  {
   "cell_type": "markdown",
   "id": "f4491029",
   "metadata": {},
   "source": [
    "<h2>Pattern 2</h2>"
   ]
  },
  {
   "cell_type": "code",
   "execution_count": 96,
   "id": "8b676682",
   "metadata": {},
   "outputs": [
    {
     "name": "stdout",
     "output_type": "stream",
     "text": [
      "A \n",
      "A B \n",
      "A B C \n",
      "A B C D \n",
      "A B C D E \n"
     ]
    }
   ],
   "source": [
    "for i in range(65,70):\n",
    "    for j in range(65,i+1):\n",
    "        print(chr(j),end=\" \")\n",
    "    print()"
   ]
  },
  {
   "cell_type": "markdown",
   "id": "e4c40e98",
   "metadata": {},
   "source": [
    "<h2>Pattern 3</h2>"
   ]
  },
  {
   "cell_type": "code",
   "execution_count": 98,
   "id": "e546ac77",
   "metadata": {},
   "outputs": [
    {
     "name": "stdout",
     "output_type": "stream",
     "text": [
      " *\n",
      " * *\n",
      " * * *\n",
      " * * * *\n",
      " * * * * *\n"
     ]
    }
   ],
   "source": [
    "for i in range(1,6):\n",
    "    print(i*\" *\")"
   ]
  },
  {
   "cell_type": "markdown",
   "id": "b981a357",
   "metadata": {},
   "source": [
    "<h2>Pattern 4</h2>"
   ]
  },
  {
   "cell_type": "code",
   "execution_count": 101,
   "id": "e509f5d0",
   "metadata": {},
   "outputs": [
    {
     "name": "stdout",
     "output_type": "stream",
     "text": [
      "1 \n",
      "2 2 \n",
      "3 3 3 \n",
      "4 4 4 4 \n",
      "5 5 5 5 5 \n"
     ]
    }
   ],
   "source": [
    "for i in range(1,6):\n",
    "    for j in range(1,i+1):\n",
    "        print(i,end=\" \")\n",
    "    print()"
   ]
  },
  {
   "cell_type": "markdown",
   "id": "10aa2570",
   "metadata": {},
   "source": [
    "<h2>Pattern 5</h2>"
   ]
  },
  {
   "cell_type": "code",
   "execution_count": 102,
   "id": "c4392884",
   "metadata": {},
   "outputs": [
    {
     "name": "stdout",
     "output_type": "stream",
     "text": [
      "A \n",
      "B B \n",
      "C C C \n",
      "D D D D \n",
      "E E E E E \n"
     ]
    }
   ],
   "source": [
    "\n",
    "for i in range(65,70):\n",
    "    for j in range(65,i+1):\n",
    "        print(chr(i),end=\" \")\n",
    "    print()"
   ]
  },
  {
   "cell_type": "markdown",
   "id": "925fad0c",
   "metadata": {},
   "source": [
    "<h2>Pattern 6</h2>"
   ]
  },
  {
   "cell_type": "code",
   "execution_count": 173,
   "id": "430432df",
   "metadata": {},
   "outputs": [
    {
     "name": "stdout",
     "output_type": "stream",
     "text": [
      "         *\n",
      "       * *\n",
      "     * * *\n",
      "   * * * *\n",
      " * * * * *\n"
     ]
    }
   ],
   "source": [
    "for i in range(1,6):\n",
    "    print((5-i)*\"  \"+(i*\" *\"))"
   ]
  },
  {
   "cell_type": "markdown",
   "id": "184a2e0d",
   "metadata": {},
   "source": [
    "<h2>pattern 7</h2>"
   ]
  },
  {
   "cell_type": "code",
   "execution_count": 5,
   "id": "129b32f3",
   "metadata": {},
   "outputs": [
    {
     "name": "stdout",
     "output_type": "stream",
     "text": [
      "    1      \n",
      "   1 2     \n",
      "  1 2 3    \n",
      " 1 2 3 4   \n",
      "1 2 3 4 5  \n"
     ]
    }
   ],
   "source": [
    "s=\"\"\n",
    "for i in range(1,6):\n",
    "    for j in range(i,i+1):\n",
    "        s=s+str(j)+\" \"\n",
    "        print(s.center(10,\" \"),end=\" \")\n",
    "    print()\n",
    "    "
   ]
  },
  {
   "cell_type": "markdown",
   "id": "c68780a7",
   "metadata": {},
   "source": [
    "<h2>Pattern 8</h2>"
   ]
  },
  {
   "cell_type": "code",
   "execution_count": 18,
   "id": "88b157cc",
   "metadata": {},
   "outputs": [
    {
     "name": "stdout",
     "output_type": "stream",
     "text": [
      "    5      \n",
      "   4 5     \n",
      "  3 4 5    \n",
      " 2 3 4 5   \n",
      "1 2 3 4 5  \n"
     ]
    }
   ],
   "source": [
    "s=\"\"\n",
    "for i in range(1,6):\n",
    "    for j in range(6-i,6):\n",
    "        s=s+str(j)+\" \"\n",
    "    print(s.center(10,\" \"),end=\" \")\n",
    "    s=\"\"    \n",
    "    print()"
   ]
  },
  {
   "cell_type": "markdown",
   "id": "277f454f",
   "metadata": {},
   "source": [
    "<h2>Pattern 9</h2>"
   ]
  },
  {
   "cell_type": "code",
   "execution_count": 175,
   "id": "7ed237c7",
   "metadata": {},
   "outputs": [
    {
     "name": "stdout",
     "output_type": "stream",
     "text": [
      "       A       \n",
      "      A B      \n",
      "     A B C     \n",
      "    A B C D    \n",
      "   A B C D E   \n"
     ]
    }
   ],
   "source": [
    "a=\" \"\n",
    "for i in range(65,70):\n",
    "        a=a+chr(i)+\" \"\n",
    "        print(a.center(15,\" \"))\n"
   ]
  },
  {
   "cell_type": "markdown",
   "id": "7aee61dd",
   "metadata": {},
   "source": [
    "<h2>Pattern10</h2>"
   ]
  },
  {
   "cell_type": "code",
   "execution_count": 176,
   "id": "f3f6b41d",
   "metadata": {},
   "outputs": [
    {
     "name": "stdout",
     "output_type": "stream",
     "text": [
      "       E        \n",
      "      D E       \n",
      "     C D E      \n",
      "    B C D E     \n",
      "   A B C D E    \n"
     ]
    }
   ],
   "source": [
    "k=0\n",
    "a=\"\"\n",
    "for i in range(69,64,-1):\n",
    "    for j in range(69-k,70):\n",
    "        a+=chr(j)+\" \"\n",
    "    print(a.center(15,\" \"),end=\" \")\n",
    "    k+=1\n",
    "    a=\"\"\n",
    "    print()"
   ]
  },
  {
   "cell_type": "markdown",
   "id": "d4062668",
   "metadata": {},
   "source": [
    "<h2>Pattern11</h2>\n",
    "\n"
   ]
  },
  {
   "cell_type": "code",
   "execution_count": 20,
   "id": "7896bd1e",
   "metadata": {},
   "outputs": [
    {
     "name": "stdout",
     "output_type": "stream",
     "text": [
      "    *     \n",
      "   ***    \n",
      "  *****   \n",
      " *******  \n",
      "********* \n"
     ]
    }
   ],
   "source": [
    "s=\"\"\n",
    "for i in range(1,10,2):\n",
    "    s=i*\"*\"+\" \"\n",
    "    print(s.center(10,\" \"))"
   ]
  },
  {
   "cell_type": "markdown",
   "id": "bff5852d",
   "metadata": {},
   "source": [
    "<h2>Pattern12</h2>"
   ]
  },
  {
   "cell_type": "code",
   "execution_count": 24,
   "id": "df0e2091",
   "metadata": {},
   "outputs": [
    {
     "name": "stdout",
     "output_type": "stream",
     "text": [
      "    1      \n",
      "   2 2     \n",
      "  3 3 3    \n",
      " 4 4 4 4   \n",
      "5 5 5 5 5  \n"
     ]
    }
   ],
   "source": [
    "s=\"\"\n",
    "for i in range(1,6):\n",
    "    for j in range(1,i+1):\n",
    "        s=s+str(i)+\" \"\n",
    "    print(s.center(10,\" \"),end=\" \")\n",
    "    s=\"\"\n",
    "    print()"
   ]
  },
  {
   "cell_type": "markdown",
   "id": "1eeb95df",
   "metadata": {},
   "source": [
    "<h2>Pattern13</h2>"
   ]
  },
  {
   "cell_type": "code",
   "execution_count": 29,
   "id": "6099eb79",
   "metadata": {},
   "outputs": [
    {
     "name": "stdout",
     "output_type": "stream",
     "text": [
      "    A      \n",
      "   B B     \n",
      "  C C C    \n",
      " D D D D   \n",
      "E E E E E  \n"
     ]
    }
   ],
   "source": [
    "s=\"\"\n",
    "for i in range(65,70):\n",
    "    for j in range(65,i+1):\n",
    "         s=s+chr(i)+\" \"\n",
    "    print(s.center(10,\" \"),end=\" \")\n",
    "    s=\"\"\n",
    "    print()\n",
    "            \n",
    "    "
   ]
  },
  {
   "cell_type": "markdown",
   "id": "81e3a624",
   "metadata": {},
   "source": [
    "<h2>Pattern14</h2>"
   ]
  },
  {
   "cell_type": "code",
   "execution_count": 31,
   "id": "04d2bcb7",
   "metadata": {},
   "outputs": [
    {
     "name": "stdout",
     "output_type": "stream",
     "text": [
      "1 2 3 4 5 \n",
      "1 2 3 4 \n",
      "1 2 3 \n",
      "1 2 \n",
      "1 \n"
     ]
    }
   ],
   "source": [
    "for i in range(5,0,-1):\n",
    "    for j in range(1,i+1):\n",
    "        print(j,end=\" \")\n",
    "    print()"
   ]
  },
  {
   "cell_type": "markdown",
   "id": "0498022d",
   "metadata": {},
   "source": [
    "<h2>Pattern15</h2>"
   ]
  },
  {
   "cell_type": "code",
   "execution_count": 41,
   "id": "701861b6",
   "metadata": {},
   "outputs": [
    {
     "name": "stdout",
     "output_type": "stream",
     "text": [
      "5 4 3 2 1 \n",
      "5 4 3 2 \n",
      "5 4 3 \n",
      "5 4 \n",
      "5 \n"
     ]
    }
   ],
   "source": [
    "for i in range(5,0,-1):\n",
    "    for j in range(5,5-i,-1):\n",
    "        print(j,end=\" \")\n",
    "    print()"
   ]
  },
  {
   "cell_type": "markdown",
   "id": "d1943d14",
   "metadata": {},
   "source": [
    "<h2>Pattern16</h2>"
   ]
  },
  {
   "cell_type": "code",
   "execution_count": 42,
   "id": "35be1811",
   "metadata": {},
   "outputs": [
    {
     "name": "stdout",
     "output_type": "stream",
     "text": [
      "5 \n",
      "5 4 \n",
      "5 4 3 \n",
      "5 4 3 2 \n",
      "5 4 3 2 1 \n"
     ]
    }
   ],
   "source": [
    "for i in range(1,6):\n",
    "    for j in range(5,5-i,-1):\n",
    "        print(j,end=\" \")\n",
    "    print()"
   ]
  },
  {
   "cell_type": "markdown",
   "id": "c1c61bcf",
   "metadata": {},
   "source": [
    "<h2>Pattern17</h2>"
   ]
  },
  {
   "cell_type": "code",
   "execution_count": 43,
   "id": "90fca1a7",
   "metadata": {},
   "outputs": [
    {
     "name": "stdout",
     "output_type": "stream",
     "text": [
      "1 \n",
      "2 3 \n",
      "4 5 6 \n",
      "7 8 9 10 \n",
      "11 12 13 14 15 \n"
     ]
    }
   ],
   "source": [
    "k=0\n",
    "for i in range(1,6):\n",
    "    for j in range(1,i+1):\n",
    "        k+=1\n",
    "        print(k,end=\" \")\n",
    "    print()"
   ]
  },
  {
   "cell_type": "markdown",
   "id": "367486d0",
   "metadata": {},
   "source": [
    "<h2>Pattern18</h2>"
   ]
  },
  {
   "cell_type": "code",
   "execution_count": 45,
   "id": "5942ce16",
   "metadata": {},
   "outputs": [
    {
     "name": "stdout",
     "output_type": "stream",
     "text": [
      "A B C D E \n",
      "A B C D \n",
      "A B C \n",
      "A B \n",
      "A \n"
     ]
    }
   ],
   "source": [
    "for i in range(70,65,-1):\n",
    "    for j in range(65,i):\n",
    "        print(chr(j),end=\" \")\n",
    "    print()"
   ]
  },
  {
   "cell_type": "code",
   "execution_count": null,
   "id": "de48d8b3",
   "metadata": {},
   "outputs": [],
   "source": []
  }
 ],
 "metadata": {
  "kernelspec": {
   "display_name": "Python 3 (ipykernel)",
   "language": "python",
   "name": "python3"
  },
  "language_info": {
   "codemirror_mode": {
    "name": "ipython",
    "version": 3
   },
   "file_extension": ".py",
   "mimetype": "text/x-python",
   "name": "python",
   "nbconvert_exporter": "python",
   "pygments_lexer": "ipython3",
   "version": "3.9.12"
  }
 },
 "nbformat": 4,
 "nbformat_minor": 5
}
