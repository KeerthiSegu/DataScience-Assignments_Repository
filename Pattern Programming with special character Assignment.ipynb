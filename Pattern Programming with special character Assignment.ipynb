{
 "cells": [
  {
   "cell_type": "markdown",
   "id": "ee6a03a4",
   "metadata": {},
   "source": [
    "<h2>Pattern2</h2>"
   ]
  },
  {
   "cell_type": "code",
   "execution_count": 4,
   "id": "d3184cfd",
   "metadata": {},
   "outputs": [
    {
     "name": "stdout",
     "output_type": "stream",
     "text": [
      "*****\n",
      "****\n",
      "***\n",
      "**\n",
      "*\n"
     ]
    }
   ],
   "source": [
    "for i in range(5,0,-1):\n",
    "    print(i*\"*\")"
   ]
  },
  {
   "cell_type": "markdown",
   "id": "76c0f7cd",
   "metadata": {},
   "source": [
    "<h2>Pattern3</h2>"
   ]
  },
  {
   "cell_type": "code",
   "execution_count": 7,
   "id": "a72a8f30",
   "metadata": {},
   "outputs": [
    {
     "name": "stdout",
     "output_type": "stream",
     "text": [
      "     *\n",
      "    **\n",
      "   ***\n",
      "  ****\n",
      " *****\n"
     ]
    }
   ],
   "source": [
    "for i in range(1,6):\n",
    "    print((6-i)*\" \"+i*\"*\")"
   ]
  },
  {
   "cell_type": "markdown",
   "id": "8f64b5cb",
   "metadata": {},
   "source": [
    "<h2>Pattern4</h2>"
   ]
  },
  {
   "cell_type": "code",
   "execution_count": 8,
   "id": "97272b76",
   "metadata": {},
   "outputs": [
    {
     "name": "stdout",
     "output_type": "stream",
     "text": [
      "*****\n",
      " ****\n",
      "  ***\n",
      "   **\n",
      "    *\n"
     ]
    }
   ],
   "source": [
    "for i in range(5,0,-1):\n",
    "    print((5-i)*\" \"+i*\"*\")"
   ]
  },
  {
   "cell_type": "markdown",
   "id": "cb674db7",
   "metadata": {},
   "source": [
    "<h2>Pattern5</h2>"
   ]
  },
  {
   "cell_type": "code",
   "execution_count": 14,
   "id": "24befd74",
   "metadata": {},
   "outputs": [
    {
     "name": "stdout",
     "output_type": "stream",
     "text": [
      "*\n",
      "**\n",
      "***\n",
      "****\n",
      "*****\n",
      "****\n",
      "***\n",
      "**\n",
      "*\n"
     ]
    }
   ],
   "source": [
    "for i in range(1,6):\n",
    "   print(i*\"*\")\n",
    "for j in range(4,0,-1):\n",
    "        print(j*\"*\")"
   ]
  },
  {
   "cell_type": "markdown",
   "id": "48954fc7",
   "metadata": {},
   "source": [
    "<h2>Pattern6</h2>"
   ]
  },
  {
   "cell_type": "code",
   "execution_count": 18,
   "id": "6139a09f",
   "metadata": {},
   "outputs": [
    {
     "name": "stdout",
     "output_type": "stream",
     "text": [
      "*****\n",
      "****\n",
      "***\n",
      "**\n",
      "*\n",
      "**\n",
      "***\n",
      "****\n",
      "*****\n"
     ]
    }
   ],
   "source": [
    "for i in range(5,0,-1):\n",
    "    print(i*\"*\")\n",
    "    if(i==1):\n",
    "        for j in range(2,6):\n",
    "            print(j*\"*\")"
   ]
  },
  {
   "cell_type": "markdown",
   "id": "46b6921d",
   "metadata": {},
   "source": [
    "<h2>Pattern7</h2>"
   ]
  },
  {
   "cell_type": "code",
   "execution_count": 24,
   "id": "61ee6a39",
   "metadata": {},
   "outputs": [
    {
     "name": "stdout",
     "output_type": "stream",
     "text": [
      "    *\n",
      "   **\n",
      "  ***\n",
      " ****\n",
      "*****\n",
      " ****\n",
      "  ***\n",
      "   **\n",
      "    *\n"
     ]
    }
   ],
   "source": [
    "for i in range(1,6):\n",
    "    print((5-i)*\" \"+(i*\"*\"))\n",
    "    if(i==5):\n",
    "        for j in range(4,0,-1):\n",
    "            print((5-j)*\" \"+(j*\"*\"))"
   ]
  },
  {
   "cell_type": "markdown",
   "id": "d391b3a2",
   "metadata": {},
   "source": [
    "<h2>Pattern8</h2>"
   ]
  },
  {
   "cell_type": "code",
   "execution_count": 33,
   "id": "2e85d195",
   "metadata": {},
   "outputs": [
    {
     "name": "stdout",
     "output_type": "stream",
     "text": [
      "*****\n",
      " ****\n",
      "  ***\n",
      "   **\n",
      "    *\n",
      "   **\n",
      "  ***\n",
      " ****\n",
      "*****\n"
     ]
    }
   ],
   "source": [
    "for i in range(5,0,-1):\n",
    "    print((5-i)*\" \"+(i*\"*\"))\n",
    "    if(i==1):\n",
    "        for j in range(2,6):\n",
    "            print((5-j)*\" \"+(j*\"*\"))"
   ]
  },
  {
   "cell_type": "markdown",
   "id": "f053775b",
   "metadata": {},
   "source": [
    "<h2>Pattern9</h2>"
   ]
  },
  {
   "cell_type": "code",
   "execution_count": 46,
   "id": "eccdffdd",
   "metadata": {},
   "outputs": [
    {
     "name": "stdout",
     "output_type": "stream",
     "text": [
      "    *     \n",
      "   ***    \n",
      "  *****   \n",
      " *******  \n",
      "********* \n"
     ]
    }
   ],
   "source": [
    "for i in range(1,10,2):\n",
    "    print((i*\"*\").center(10,\" \"))"
   ]
  },
  {
   "cell_type": "markdown",
   "id": "05bb708d",
   "metadata": {},
   "source": [
    "<h2>Pattern12</h2>"
   ]
  },
  {
   "cell_type": "code",
   "execution_count": 49,
   "id": "ed1f601c",
   "metadata": {},
   "outputs": [
    {
     "name": "stdout",
     "output_type": "stream",
     "text": [
      "********* \n",
      " *******  \n",
      "  *****   \n",
      "   ***    \n",
      "    *     \n",
      "   ***    \n",
      "  *****   \n",
      " *******  \n",
      "********* \n"
     ]
    }
   ],
   "source": [
    "for i in range(9,0,-2):\n",
    "    print((i*\"*\").center(10,\" \"))\n",
    "    if(i==1):\n",
    "        for j in range(3,10,2):\n",
    "            print((j*\"*\").center(10,\" \"))"
   ]
  },
  {
   "cell_type": "markdown",
   "id": "408de3f1",
   "metadata": {},
   "source": [
    "<h2>Pattern13</h2>"
   ]
  },
  {
   "cell_type": "code",
   "execution_count": 70,
   "id": "334a6057",
   "metadata": {
    "scrolled": true
   },
   "outputs": [
    {
     "name": "stdout",
     "output_type": "stream",
     "text": [
      "*        *\n",
      "**      **\n",
      "***    ***\n",
      "****  ****\n",
      "**********\n"
     ]
    }
   ],
   "source": [
    "for j in range(1,6):\n",
    "        print((j*\"*\")+(5-j)*\"  \"+(j*\"*\"))\n",
    "        \n"
   ]
  },
  {
   "cell_type": "markdown",
   "id": "93c381b1",
   "metadata": {},
   "source": [
    "<h2>Pattern14</h2>"
   ]
  },
  {
   "cell_type": "code",
   "execution_count": 100,
   "id": "2a6d076c",
   "metadata": {},
   "outputs": [
    {
     "name": "stdout",
     "output_type": "stream",
     "text": [
      "**********\n",
      "****  ****\n",
      "***    ***\n",
      "**      **\n",
      "*        *\n"
     ]
    }
   ],
   "source": [
    "for i in range(5,0,-1):\n",
    "    print((i*\"*\")+(5-i)*\"  \"+(i*\"*\"))"
   ]
  },
  {
   "cell_type": "markdown",
   "id": "d7149c11",
   "metadata": {},
   "source": [
    "<h2>Pattern15</h2>"
   ]
  },
  {
   "cell_type": "code",
   "execution_count": 105,
   "id": "f0a9699e",
   "metadata": {},
   "outputs": [
    {
     "name": "stdout",
     "output_type": "stream",
     "text": [
      "*        *\n",
      "**      **\n",
      "***    ***\n",
      "****  ****\n",
      "**********\n",
      "****  ****\n",
      "***    ***\n",
      "**      **\n",
      "*        *\n"
     ]
    }
   ],
   "source": [
    "for j in range(1,6):\n",
    "        print((j*\"*\")+(5-j)*\"  \"+(j*\"*\"))\n",
    "        if(j==5):\n",
    "             for i in range(4,0,-1):\n",
    "                print((i*\"*\")+(5-i)*\"  \"+(i*\"*\"))"
   ]
  },
  {
   "cell_type": "markdown",
   "id": "69f4f078",
   "metadata": {},
   "source": [
    "<h2>Pattern16</h2>"
   ]
  },
  {
   "cell_type": "code",
   "execution_count": 114,
   "id": "b279e0bc",
   "metadata": {},
   "outputs": [
    {
     "name": "stdout",
     "output_type": "stream",
     "text": [
      "**********\n",
      "****  ****\n",
      "***    ***\n",
      "**      **\n",
      "*        *\n",
      "**      **\n",
      "***    ***\n",
      "****  ****\n",
      "**********\n"
     ]
    }
   ],
   "source": [
    "for i in range(5,0,-1):\n",
    "    print((i*\"*\")+(5-i)*\"  \"+(i*\"*\"))\n",
    "    if(i==1):\n",
    "        for j in range(i+1,6):\n",
    "            print((j*\"*\")+(5-j)*\"  \"+(j*\"*\"))\n",
    "            "
   ]
  },
  {
   "cell_type": "markdown",
   "id": "a5e736a3",
   "metadata": {},
   "source": [
    "<h2>Pattern17</h2>"
   ]
  },
  {
   "cell_type": "code",
   "execution_count": 5,
   "id": "aec6e050",
   "metadata": {},
   "outputs": [
    {
     "name": "stdout",
     "output_type": "stream",
     "text": [
      "*\n",
      "**\n",
      "* *\n",
      "*  *\n",
      "*****\n"
     ]
    }
   ],
   "source": [
    "for i in range(1,6):\n",
    "    if(i>=2) and (i<=4):\n",
    "        print(\"*\"+(i-2)*\" \"+\"*\")\n",
    "    else:\n",
    "        print(i*\"*\")"
   ]
  },
  {
   "cell_type": "markdown",
   "id": "2352ce1f",
   "metadata": {},
   "source": [
    "<h2>Pattern18</h2>"
   ]
  },
  {
   "cell_type": "code",
   "execution_count": 8,
   "id": "a138a80a",
   "metadata": {},
   "outputs": [
    {
     "name": "stdout",
     "output_type": "stream",
     "text": [
      "*****\n",
      "*  *\n",
      "* *\n",
      "**\n",
      "*\n"
     ]
    }
   ],
   "source": [
    "for i in range(5,0,-1):\n",
    "    if(i>=2) and (i<=4):\n",
    "        print(\"*\"+(i-2)*\" \"+\"*\")\n",
    "    else:\n",
    "        print(i*\"*\")"
   ]
  },
  {
   "cell_type": "markdown",
   "id": "c420b811",
   "metadata": {},
   "source": [
    "<h2>Pattern19</h2>"
   ]
  },
  {
   "cell_type": "code",
   "execution_count": 9,
   "id": "3c56ff98",
   "metadata": {},
   "outputs": [
    {
     "name": "stdout",
     "output_type": "stream",
     "text": [
      "    *\n",
      "   **\n",
      "  * *\n",
      " *  *\n",
      "*****\n"
     ]
    }
   ],
   "source": [
    "for i in range(1,6):\n",
    "    if(i>=2) and (i<=4):\n",
    "        print((5-i)*\" \"+\"*\"+(i-2)*\" \"+\"*\")\n",
    "    else:\n",
    "        print((5-i)*\" \"+i*\"*\")"
   ]
  },
  {
   "cell_type": "markdown",
   "id": "6e733133",
   "metadata": {},
   "source": [
    "<h2>Pattern22</h2>"
   ]
  },
  {
   "cell_type": "code",
   "execution_count": 11,
   "id": "ad307457",
   "metadata": {},
   "outputs": [
    {
     "name": "stdout",
     "output_type": "stream",
     "text": [
      "*****\n",
      "*  *\n",
      "* *\n",
      "**\n",
      "*\n",
      "**\n",
      "* *\n",
      "*  *\n",
      "*****\n"
     ]
    }
   ],
   "source": [
    "for i in range(5,0,-1):\n",
    "    if(i>=2) and (i<=4):\n",
    "        print(\"*\"+(i-2)*\" \"+\"*\")\n",
    "    else:\n",
    "        print(i*\"*\")\n",
    "for j in range(2,6):\n",
    "    if(j>=2) and (j<=4):\n",
    "        print(\"*\"+(j-2)*\" \"+\"*\")\n",
    "    else:\n",
    "        print(j*\"*\")    \n"
   ]
  },
  {
   "cell_type": "markdown",
   "id": "2f383710",
   "metadata": {},
   "source": [
    "<h2>Pattern23</h2>"
   ]
  },
  {
   "cell_type": "code",
   "execution_count": 37,
   "id": "f0c81548",
   "metadata": {},
   "outputs": [
    {
     "name": "stdout",
     "output_type": "stream",
     "text": [
      "    *\n",
      "   **\n",
      "  * *\n",
      " *  *\n",
      "*   *\n",
      " *  *\n",
      "  * *\n",
      "   **\n",
      "    *\n"
     ]
    }
   ],
   "source": [
    "for i in range(1,6):\n",
    "    if(i>=2) and (i<=5):\n",
    "        print((5-i)*\" \"+\"*\"+(i-2)*\" \"+\"*\")\n",
    "    else:\n",
    "        print((5-i)*\" \"+i*\"*\")\n",
    "for i in range(4,0,-1):\n",
    "    if(i>=2) and (i<=5):\n",
    "        print((5-i)*\" \"+\"*\"+(i-2)*\" \"+\"*\")\n",
    "    else:\n",
    "        print((5-i)*\" \"+i*\"*\")"
   ]
  },
  {
   "cell_type": "markdown",
   "id": "4f7b60f3",
   "metadata": {},
   "source": [
    "<h2>Pattern24</h2>"
   ]
  },
  {
   "cell_type": "code",
   "execution_count": 38,
   "id": "650ac588",
   "metadata": {},
   "outputs": [
    {
     "name": "stdout",
     "output_type": "stream",
     "text": [
      "*****\n",
      " *  *\n",
      "  * *\n",
      "   **\n",
      "    *\n",
      "   **\n",
      "  * *\n",
      " *  *\n",
      "*****\n"
     ]
    }
   ],
   "source": [
    "for i in range(5,0,-1):\n",
    "    if(i>=2) and (i<=4):\n",
    "        print((5-i)*\" \"+\"*\"+(i-2)*\" \"+\"*\")\n",
    "    else:\n",
    "        print((5-i)*\" \"+i*\"*\")\n",
    "for j in range(2,6):\n",
    "    if(j>=2) and (j<=4):\n",
    "        print((5-j)*\" \"+\"*\"+(j-2)*\" \"+\"*\")\n",
    "    else:\n",
    "        print((5-j)*\" \"+j*\"*\")  "
   ]
  },
  {
   "cell_type": "markdown",
   "id": "24718b54",
   "metadata": {},
   "source": [
    "<h2>Pattern25</h2>"
   ]
  },
  {
   "cell_type": "code",
   "execution_count": 56,
   "id": "3c395b76",
   "metadata": {},
   "outputs": [
    {
     "name": "stdout",
     "output_type": "stream",
     "text": [
      "    *     \n",
      "   * *\n",
      "  *   *\n",
      " *     *\n",
      "*********\n"
     ]
    }
   ],
   "source": [
    "k=2\n",
    "j=4\n",
    "for i in range(1,10,2):\n",
    "    if(i>=2) and (i<=8):\n",
    "        print((5-k)*\" \"+\"*\"+(5-j)*\" \"+\"*\")\n",
    "        k+=1\n",
    "        j-=2\n",
    "    elif(i==1):\n",
    "        s=i*\"*\"\n",
    "        print(s.center(10,\" \"))\n",
    "    else:\n",
    "        print(i*\"*\")"
   ]
  },
  {
   "cell_type": "markdown",
   "id": "edc2cc4a",
   "metadata": {},
   "source": [
    "<h2>Pattern26</h2>"
   ]
  },
  {
   "cell_type": "code",
   "execution_count": 60,
   "id": "76bec640",
   "metadata": {},
   "outputs": [
    {
     "name": "stdout",
     "output_type": "stream",
     "text": [
      "*********\n",
      " *     *\n",
      "  *   *\n",
      "   * *\n",
      "    *     \n"
     ]
    }
   ],
   "source": [
    "k=4\n",
    "j=0\n",
    "for i in range(9,0,-2):\n",
    "    if(i>=2) and (i<=8):\n",
    "        print((5-k)*\" \"+\"*\"+(5-j)*\" \"+\"*\")\n",
    "        k-=1\n",
    "        j+=2\n",
    "    elif(i==1):\n",
    "        s=i*\"*\"\n",
    "        print(s.center(10,\" \"))\n",
    "    else:\n",
    "        print(i*\"*\")"
   ]
  },
  {
   "cell_type": "markdown",
   "id": "1c7d5a95",
   "metadata": {},
   "source": [
    "<h2>Pattern27</h2>"
   ]
  },
  {
   "cell_type": "code",
   "execution_count": 62,
   "id": "480eb286",
   "metadata": {},
   "outputs": [
    {
     "name": "stdout",
     "output_type": "stream",
     "text": [
      "    *     \n",
      "   * *\n",
      "  *   *\n",
      " *     *\n",
      "*       *\n",
      " *     *\n",
      "  *   *\n",
      "   * *\n",
      "    *     \n"
     ]
    }
   ],
   "source": [
    "k=2\n",
    "j=4\n",
    "for i in range(1,10,2):\n",
    "    if(i>=2) and (i<=9):\n",
    "        print((5-k)*\" \"+\"*\"+(5-j)*\" \"+\"*\")\n",
    "        k+=1\n",
    "        j-=2\n",
    "    else:\n",
    "        s=i*\"*\"\n",
    "        print(s.center(10,\" \"))\n",
    "    \n",
    "k=4\n",
    "j=0\n",
    "for i in range(9,0,-2):\n",
    "    if(i>=2) and (i<=8):\n",
    "        print((5-k)*\" \"+\"*\"+(5-j)*\" \"+\"*\")\n",
    "        k-=1\n",
    "        j+=2\n",
    "    elif(i==1):\n",
    "        s=i*\"*\"\n",
    "        print(s.center(10,\" \"))\n",
    "    "
   ]
  },
  {
   "cell_type": "markdown",
   "id": "4d3ce1bd",
   "metadata": {},
   "source": [
    "<h2>Pattern28</h2>"
   ]
  },
  {
   "cell_type": "code",
   "execution_count": 67,
   "id": "68d99eb1",
   "metadata": {},
   "outputs": [
    {
     "name": "stdout",
     "output_type": "stream",
     "text": [
      "*********\n",
      " *     *\n",
      "  *   *\n",
      "   * *\n",
      "    *     \n",
      "   * *\n",
      "  *   *\n",
      " *     *\n",
      "*********\n"
     ]
    }
   ],
   "source": [
    "k=4\n",
    "j=0\n",
    "for i in range(9,0,-2):\n",
    "    if(i>=2) and (i<=8):\n",
    "        print((5-k)*\" \"+\"*\"+(5-j)*\" \"+\"*\")\n",
    "        k-=1\n",
    "        j+=2\n",
    "    elif(i==1):\n",
    "        s=i*\"*\"\n",
    "        print(s.center(10,\" \"))\n",
    "    else:\n",
    "        print(i*\"*\")\n",
    "k=2\n",
    "j=4\n",
    "for i in range(1,10,2):\n",
    "    if(i>=2) and (i<=8):\n",
    "        print((5-k)*\" \"+\"*\"+(5-j)*\" \"+\"*\")\n",
    "        k+=1\n",
    "        j-=2\n",
    "    elif(i==9):\n",
    "        print(i*\"*\")\n"
   ]
  },
  {
   "cell_type": "markdown",
   "id": "8399682b",
   "metadata": {},
   "source": [
    "<h2>Pattern29</h2>"
   ]
  },
  {
   "cell_type": "code",
   "execution_count": 117,
   "id": "5ca06cc6",
   "metadata": {},
   "outputs": [
    {
     "name": "stdout",
     "output_type": "stream",
     "text": [
      "*****\n",
      "*****\n",
      "*****\n",
      "*****\n",
      "*****\n"
     ]
    }
   ],
   "source": [
    "for i in range(1,6):\n",
    "    print(5*\"*\")"
   ]
  }
 ],
 "metadata": {
  "kernelspec": {
   "display_name": "Python 3 (ipykernel)",
   "language": "python",
   "name": "python3"
  },
  "language_info": {
   "codemirror_mode": {
    "name": "ipython",
    "version": 3
   },
   "file_extension": ".py",
   "mimetype": "text/x-python",
   "name": "python",
   "nbconvert_exporter": "python",
   "pygments_lexer": "ipython3",
   "version": "3.9.12"
  }
 },
 "nbformat": 4,
 "nbformat_minor": 5
}
