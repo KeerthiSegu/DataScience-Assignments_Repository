{
  "cells": [
    {
      "cell_type": "markdown",
      "metadata": {
        "id": "view-in-github",
        "colab_type": "text"
      },
      "source": [
        "<a href=\"https://colab.research.google.com/github/KeerthiSegu/DataScience-Assignments_Repository/blob/main/Numpy_assignment(1).ipynb\" target=\"_parent\"><img src=\"https://colab.research.google.com/assets/colab-badge.svg\" alt=\"Open In Colab\"/></a>"
      ]
    },
    {
      "cell_type": "markdown",
      "id": "0b171370",
      "metadata": {
        "id": "0b171370"
      },
      "source": [
        "#  Import the numpy package under the name np "
      ]
    },
    {
      "cell_type": "code",
      "execution_count": 71,
      "id": "356cfbb8",
      "metadata": {
        "id": "356cfbb8"
      },
      "outputs": [],
      "source": [
        "import numpy as np"
      ]
    },
    {
      "cell_type": "markdown",
      "id": "6794211e",
      "metadata": {
        "id": "6794211e"
      },
      "source": [
        "# Print the numpy version and the configuration \n"
      ]
    },
    {
      "cell_type": "code",
      "execution_count": 72,
      "id": "3c5aa145",
      "metadata": {
        "scrolled": false,
        "id": "3c5aa145",
        "colab": {
          "base_uri": "https://localhost:8080/"
        },
        "outputId": "9007b0f6-8b50-40e0-c43a-4bd72fa4dd2d"
      },
      "outputs": [
        {
          "output_type": "stream",
          "name": "stdout",
          "text": [
            "1.22.4\n"
          ]
        }
      ],
      "source": [
        "print(np.__version__)"
      ]
    },
    {
      "cell_type": "markdown",
      "id": "9913b6a2",
      "metadata": {
        "id": "9913b6a2"
      },
      "source": [
        "# Create a null vector of size 20 "
      ]
    },
    {
      "cell_type": "code",
      "execution_count": 73,
      "id": "3135c315",
      "metadata": {
        "id": "3135c315",
        "colab": {
          "base_uri": "https://localhost:8080/"
        },
        "outputId": "23a25571-15f8-4a0c-b13f-5e0010037e90"
      },
      "outputs": [
        {
          "output_type": "execute_result",
          "data": {
            "text/plain": [
              "array([0., 0., 0., 0., 0., 0., 0., 0., 0., 0., 0., 0., 0., 0., 0., 0., 0.,\n",
              "       0., 0., 0.])"
            ]
          },
          "metadata": {},
          "execution_count": 73
        }
      ],
      "source": [
        "data=np.zeros(20)\n",
        "data"
      ]
    },
    {
      "cell_type": "markdown",
      "id": "51fbecbf",
      "metadata": {
        "id": "51fbecbf"
      },
      "source": [
        "# How to find the memory size of any array "
      ]
    },
    {
      "cell_type": "code",
      "execution_count": 74,
      "id": "cbf42101",
      "metadata": {
        "id": "cbf42101",
        "colab": {
          "base_uri": "https://localhost:8080/"
        },
        "outputId": "869d5897-c4bf-4511-fdf6-d0430827e858"
      },
      "outputs": [
        {
          "output_type": "stream",
          "name": "stdout",
          "text": [
            "Size of the array:  20\n",
            "Memory size of one array element in bytes:  8\n",
            "Memory size of numpy array in bytes: 160\n"
          ]
        }
      ],
      "source": [
        "print(\"Size of the array: \",data.size)\n",
        "print(\"Memory size of one array element in bytes: \",data.itemsize)\n",
        "print(\"Memory size of numpy array in bytes:\",data.size * data.itemsize)# memory size of numpy array"
      ]
    },
    {
      "cell_type": "markdown",
      "id": "3b690c56",
      "metadata": {
        "id": "3b690c56"
      },
      "source": [
        "# How to get the documentation of the numpy add function from the command line? "
      ]
    },
    {
      "cell_type": "code",
      "execution_count": 75,
      "id": "3e114c95",
      "metadata": {
        "scrolled": true,
        "id": "3e114c95",
        "colab": {
          "base_uri": "https://localhost:8080/"
        },
        "outputId": "2f7e8c30-06bf-4bb8-9b77-50526fd6d339"
      },
      "outputs": [
        {
          "output_type": "stream",
          "name": "stdout",
          "text": [
            "add(x1, x2, /, out=None, *, where=True, casting='same_kind', order='K', dtype=None, subok=True[, signature, extobj])\n",
            "\n",
            "Add arguments element-wise.\n",
            "\n",
            "Parameters\n",
            "----------\n",
            "x1, x2 : array_like\n",
            "    The arrays to be added.\n",
            "    If ``x1.shape != x2.shape``, they must be broadcastable to a common\n",
            "    shape (which becomes the shape of the output).\n",
            "out : ndarray, None, or tuple of ndarray and None, optional\n",
            "    A location into which the result is stored. If provided, it must have\n",
            "    a shape that the inputs broadcast to. If not provided or None,\n",
            "    a freshly-allocated array is returned. A tuple (possible only as a\n",
            "    keyword argument) must have length equal to the number of outputs.\n",
            "where : array_like, optional\n",
            "    This condition is broadcast over the input. At locations where the\n",
            "    condition is True, the `out` array will be set to the ufunc result.\n",
            "    Elsewhere, the `out` array will retain its original value.\n",
            "    Note that if an uninitialized `out` array is created via the default\n",
            "    ``out=None``, locations within it where the condition is False will\n",
            "    remain uninitialized.\n",
            "**kwargs\n",
            "    For other keyword-only arguments, see the\n",
            "    :ref:`ufunc docs <ufuncs.kwargs>`.\n",
            "\n",
            "Returns\n",
            "-------\n",
            "add : ndarray or scalar\n",
            "    The sum of `x1` and `x2`, element-wise.\n",
            "    This is a scalar if both `x1` and `x2` are scalars.\n",
            "\n",
            "Notes\n",
            "-----\n",
            "Equivalent to `x1` + `x2` in terms of array broadcasting.\n",
            "\n",
            "Examples\n",
            "--------\n",
            ">>> np.add(1.0, 4.0)\n",
            "5.0\n",
            ">>> x1 = np.arange(9.0).reshape((3, 3))\n",
            ">>> x2 = np.arange(3.0)\n",
            ">>> np.add(x1, x2)\n",
            "array([[  0.,   2.,   4.],\n",
            "       [  3.,   5.,   7.],\n",
            "       [  6.,   8.,  10.]])\n",
            "\n",
            "The ``+`` operator can be used as a shorthand for ``np.add`` on ndarrays.\n",
            "\n",
            ">>> x1 = np.arange(9.0).reshape((3, 3))\n",
            ">>> x2 = np.arange(3.0)\n",
            ">>> x1 + x2\n",
            "array([[ 0.,  2.,  4.],\n",
            "       [ 3.,  5.,  7.],\n",
            "       [ 6.,  8., 10.]])\n"
          ]
        }
      ],
      "source": [
        "import numpy; numpy.info(numpy.add)"
      ]
    },
    {
      "cell_type": "markdown",
      "id": "d206ca71",
      "metadata": {
        "id": "d206ca71"
      },
      "source": [
        "# Create a null vector of size 20 but the fifth value which is 1 "
      ]
    },
    {
      "cell_type": "code",
      "execution_count": 76,
      "id": "7eedff31",
      "metadata": {
        "id": "7eedff31",
        "colab": {
          "base_uri": "https://localhost:8080/"
        },
        "outputId": "3b3facd4-cd36-4f5f-83fa-ca8a91412934"
      },
      "outputs": [
        {
          "output_type": "stream",
          "name": "stdout",
          "text": [
            "[0. 0. 0. 0. 0. 0. 0. 0. 0. 0. 0. 0. 0. 0. 0. 0. 0. 0. 0. 0.]\n"
          ]
        },
        {
          "output_type": "execute_result",
          "data": {
            "text/plain": [
              "array([0., 0., 0., 0., 1., 0., 0., 0., 0., 0., 0., 0., 0., 0., 0., 0., 0.,\n",
              "       0., 0., 0.])"
            ]
          },
          "metadata": {},
          "execution_count": 76
        }
      ],
      "source": [
        "data=np.zeros(20)\n",
        "print(data)\n",
        "data[4]=1\n",
        "data"
      ]
    },
    {
      "cell_type": "markdown",
      "id": "8e9b43a2",
      "metadata": {
        "id": "8e9b43a2"
      },
      "source": [
        "# Create a vector with values ranging from 10 to 68 "
      ]
    },
    {
      "cell_type": "code",
      "execution_count": 77,
      "id": "bd1d75c0",
      "metadata": {
        "id": "bd1d75c0",
        "colab": {
          "base_uri": "https://localhost:8080/"
        },
        "outputId": "d0ff57c2-bee3-4f1d-f1ce-93419e9197ce"
      },
      "outputs": [
        {
          "output_type": "execute_result",
          "data": {
            "text/plain": [
              "array([10, 11, 12, 13, 14, 15, 16, 17, 18, 19, 20, 21, 22, 23, 24, 25, 26,\n",
              "       27, 28, 29, 30, 31, 32, 33, 34, 35, 36, 37, 38, 39, 40, 41, 42, 43,\n",
              "       44, 45, 46, 47, 48, 49, 50, 51, 52, 53, 54, 55, 56, 57, 58, 59, 60,\n",
              "       61, 62, 63, 64, 65, 66, 67, 68])"
            ]
          },
          "metadata": {},
          "execution_count": 77
        }
      ],
      "source": [
        "data=np.arange(10,69)\n",
        "data"
      ]
    },
    {
      "cell_type": "markdown",
      "id": "54b959fe",
      "metadata": {
        "id": "54b959fe"
      },
      "source": [
        "# Reverse a vector (first element becomes last) "
      ]
    },
    {
      "cell_type": "code",
      "execution_count": 78,
      "id": "dfccaf8a",
      "metadata": {
        "id": "dfccaf8a",
        "colab": {
          "base_uri": "https://localhost:8080/"
        },
        "outputId": "21c7c26d-7dd3-4a70-8007-7ee0b25fab74"
      },
      "outputs": [
        {
          "output_type": "execute_result",
          "data": {
            "text/plain": [
              "array([68, 67, 66, 65, 64, 63, 62, 61, 60, 59, 58, 57, 56, 55, 54, 53, 52,\n",
              "       51, 50, 49, 48, 47, 46, 45, 44, 43, 42, 41, 40, 39, 38, 37, 36, 35,\n",
              "       34, 33, 32, 31, 30, 29, 28, 27, 26, 25, 24, 23, 22, 21, 20, 19, 18,\n",
              "       17, 16, 15, 14, 13, 12, 11, 10])"
            ]
          },
          "metadata": {},
          "execution_count": 78
        }
      ],
      "source": [
        "data[::-1]"
      ]
    },
    {
      "cell_type": "markdown",
      "id": "1a96b300",
      "metadata": {
        "id": "1a96b300"
      },
      "source": [
        "# Create a 3x3 matrix with values ranging from 0 to 10"
      ]
    },
    {
      "cell_type": "code",
      "execution_count": 79,
      "id": "9e8e4141",
      "metadata": {
        "id": "9e8e4141",
        "colab": {
          "base_uri": "https://localhost:8080/"
        },
        "outputId": "4934e63e-3514-43f5-94a6-bd5ca419c076"
      },
      "outputs": [
        {
          "output_type": "execute_result",
          "data": {
            "text/plain": [
              "array([[6, 4, 2],\n",
              "       [5, 4, 6],\n",
              "       [2, 9, 2]])"
            ]
          },
          "metadata": {},
          "execution_count": 79
        }
      ],
      "source": [
        "data=np.random.randint(0,11,(3,3))\n",
        "data"
      ]
    },
    {
      "cell_type": "markdown",
      "id": "81670b0e",
      "metadata": {
        "id": "81670b0e"
      },
      "source": [
        "# Find indices of non-zero elements from [0,2,1,0,4,0] "
      ]
    },
    {
      "cell_type": "code",
      "execution_count": 80,
      "id": "27e1bd2b",
      "metadata": {
        "id": "27e1bd2b",
        "colab": {
          "base_uri": "https://localhost:8080/"
        },
        "outputId": "bd086300-bff3-4390-ada0-e595fae3d427"
      },
      "outputs": [
        {
          "output_type": "execute_result",
          "data": {
            "text/plain": [
              "(array([1, 2, 4]),)"
            ]
          },
          "metadata": {},
          "execution_count": 80
        }
      ],
      "source": [
        "x=np.nonzero([0,2,1,0,4,0])\n",
        "x"
      ]
    },
    {
      "cell_type": "markdown",
      "id": "ce3161d7",
      "metadata": {
        "id": "ce3161d7"
      },
      "source": [
        "# Create a 3x3 identity matrix "
      ]
    },
    {
      "cell_type": "code",
      "execution_count": 81,
      "id": "4a921685",
      "metadata": {
        "id": "4a921685",
        "colab": {
          "base_uri": "https://localhost:8080/"
        },
        "outputId": "48a7bcf6-2295-4475-e707-8904b713eada"
      },
      "outputs": [
        {
          "output_type": "execute_result",
          "data": {
            "text/plain": [
              "array([[1., 0., 0.],\n",
              "       [0., 1., 0.],\n",
              "       [0., 0., 1.]])"
            ]
          },
          "metadata": {},
          "execution_count": 81
        }
      ],
      "source": [
        "np.eye(3)"
      ]
    },
    {
      "cell_type": "markdown",
      "id": "5815b7f9",
      "metadata": {
        "id": "5815b7f9"
      },
      "source": [
        "# Create a 3x3x3 array with random values\n"
      ]
    },
    {
      "cell_type": "code",
      "execution_count": 82,
      "id": "f41ef732",
      "metadata": {
        "id": "f41ef732",
        "colab": {
          "base_uri": "https://localhost:8080/"
        },
        "outputId": "82fff9a2-5265-47f0-811d-70471a6382fb"
      },
      "outputs": [
        {
          "output_type": "execute_result",
          "data": {
            "text/plain": [
              "array([[[8, 6, 1],\n",
              "        [8, 9, 9],\n",
              "        [9, 1, 8]],\n",
              "\n",
              "       [[3, 1, 8],\n",
              "        [2, 2, 6],\n",
              "        [2, 6, 7]],\n",
              "\n",
              "       [[5, 9, 8],\n",
              "        [6, 2, 9],\n",
              "        [1, 6, 4]]])"
            ]
          },
          "metadata": {},
          "execution_count": 82
        }
      ],
      "source": [
        "np.random.randint(1,10,(3,3,3))"
      ]
    },
    {
      "cell_type": "markdown",
      "id": "b5cf1137",
      "metadata": {
        "id": "b5cf1137"
      },
      "source": [
        "#  Create a 10x10 array with random values and find the minimum and maximum values "
      ]
    },
    {
      "cell_type": "code",
      "execution_count": 83,
      "id": "5ac8b07f",
      "metadata": {
        "id": "5ac8b07f",
        "colab": {
          "base_uri": "https://localhost:8080/"
        },
        "outputId": "e7d84758-f7c2-4fac-eeca-f6e43e21c8dc"
      },
      "outputs": [
        {
          "output_type": "stream",
          "name": "stdout",
          "text": [
            "[[426 183 363 ... 464 354 161]\n",
            " [216  42 160 ... 429 386 360]\n",
            " [426 432 188 ... 126 474 457]\n",
            " ...\n",
            " [328 102  61 ... 166 347  53]\n",
            " [320 281 161 ... 310  92 136]\n",
            " [151  56 128 ... 245 269 492]]\n",
            "Minimum value 30\n",
            "Maximum value 499\n"
          ]
        }
      ],
      "source": [
        "data=np.random.randint(30,500,(101,10))\n",
        "print(data)\n",
        "print(\"Minimum value\",data.min())\n",
        "print(\"Maximum value\",data.max())"
      ]
    },
    {
      "cell_type": "markdown",
      "id": "1e76375e",
      "metadata": {
        "id": "1e76375e"
      },
      "source": [
        "# Create a random vector of size 30 and find the mean value "
      ]
    },
    {
      "cell_type": "code",
      "execution_count": 84,
      "id": "d363d801",
      "metadata": {
        "id": "d363d801",
        "colab": {
          "base_uri": "https://localhost:8080/"
        },
        "outputId": "eb9705f7-686a-4f46-c221-b4e440a0edb5"
      },
      "outputs": [
        {
          "output_type": "stream",
          "name": "stdout",
          "text": [
            "Mean 14.5\n"
          ]
        }
      ],
      "source": [
        "data=np.arange(30)\n",
        "print(\"Mean\",data.mean())"
      ]
    },
    {
      "cell_type": "markdown",
      "id": "d2a74e2a",
      "metadata": {
        "id": "d2a74e2a"
      },
      "source": [
        "# Create a 2d array with 1 on the border and 0 inside \n"
      ]
    },
    {
      "cell_type": "code",
      "execution_count": 85,
      "id": "50f1db82",
      "metadata": {
        "id": "50f1db82",
        "colab": {
          "base_uri": "https://localhost:8080/"
        },
        "outputId": "580c67dd-c55c-495e-fcb5-8fbdcb21b952"
      },
      "outputs": [
        {
          "output_type": "execute_result",
          "data": {
            "text/plain": [
              "array([[1., 1., 1.],\n",
              "       [1., 0., 1.],\n",
              "       [1., 1., 1.]])"
            ]
          },
          "metadata": {},
          "execution_count": 85
        }
      ],
      "source": [
        "data=np.ones((3,3))\n",
        "data[1,1]=0\n",
        "data\n"
      ]
    },
    {
      "cell_type": "code",
      "source": [
        "data=np.ones((5,5))\n",
        "data[1:4,1:4]=0\n",
        "data"
      ],
      "metadata": {
        "colab": {
          "base_uri": "https://localhost:8080/"
        },
        "id": "SZsU9--jGdXB",
        "outputId": "306ebcf9-bdab-4673-9ec9-f251582fe3b1"
      },
      "id": "SZsU9--jGdXB",
      "execution_count": 86,
      "outputs": [
        {
          "output_type": "execute_result",
          "data": {
            "text/plain": [
              "array([[1., 1., 1., 1., 1.],\n",
              "       [1., 0., 0., 0., 1.],\n",
              "       [1., 0., 0., 0., 1.],\n",
              "       [1., 0., 0., 0., 1.],\n",
              "       [1., 1., 1., 1., 1.]])"
            ]
          },
          "metadata": {},
          "execution_count": 86
        }
      ]
    },
    {
      "cell_type": "markdown",
      "id": "49615f62",
      "metadata": {
        "id": "49615f62"
      },
      "source": [
        "# How to add a border (filled with 0's) around an existing array? "
      ]
    },
    {
      "cell_type": "code",
      "execution_count": 87,
      "id": "01a8a84e",
      "metadata": {
        "id": "01a8a84e",
        "colab": {
          "base_uri": "https://localhost:8080/"
        },
        "outputId": "846450ca-ece5-4353-8784-1fc63865ae49"
      },
      "outputs": [
        {
          "output_type": "stream",
          "name": "stdout",
          "text": [
            "[[19 17  5]\n",
            " [11 16  4]\n",
            " [14  2  3]]\n"
          ]
        },
        {
          "output_type": "execute_result",
          "data": {
            "text/plain": [
              "array([[ 0,  0,  0,  0,  0],\n",
              "       [ 0, 19, 17,  5,  0],\n",
              "       [ 0, 11, 16,  4,  0],\n",
              "       [ 0, 14,  2,  3,  0],\n",
              "       [ 0,  0,  0,  0,  0]])"
            ]
          },
          "metadata": {},
          "execution_count": 87
        }
      ],
      "source": [
        "data=np.random.randint(2,20,(3,3))\n",
        "print(data)\n",
        "data=np.pad(data,pad_width=1,mode='constant',constant_values=0)\n",
        "data"
      ]
    },
    {
      "cell_type": "markdown",
      "id": "310cb0d0",
      "metadata": {
        "id": "310cb0d0"
      },
      "source": [
        "# What is the result of the following expression? "
      ]
    },
    {
      "cell_type": "raw",
      "id": "a51069e0",
      "metadata": {
        "id": "a51069e0"
      },
      "source": [
        "0 * np.nan\n",
        "np.nan == np.nan\n",
        "np.inf > np.nan\n",
        "np.nan - np.nan\n",
        "np.nan in set([np.nan])\n",
        "0.3 == 3 * 0.1"
      ]
    },
    {
      "cell_type": "code",
      "execution_count": 88,
      "id": "b1bd9f3b",
      "metadata": {
        "id": "b1bd9f3b",
        "colab": {
          "base_uri": "https://localhost:8080/"
        },
        "outputId": "92727c08-3de3-4bbd-f83d-2a338d616168"
      },
      "outputs": [
        {
          "output_type": "stream",
          "name": "stdout",
          "text": [
            "nan\n",
            "False\n",
            "False\n",
            "nan\n",
            "True\n",
            "False\n"
          ]
        }
      ],
      "source": [
        "print(0 * np.nan)\n",
        "print(np.nan == np.nan)\n",
        "print(np.inf > np.nan)\n",
        "print(np.nan - np.nan)\n",
        "print(np.nan in set([np.nan]))\n",
        "print(0.3 == 3 * 0.1)"
      ]
    },
    {
      "cell_type": "markdown",
      "id": "d9bcb98f",
      "metadata": {
        "id": "d9bcb98f"
      },
      "source": [
        "# Create a 5x5 matrix with values 1,2,3,4 just below the diagonal "
      ]
    },
    {
      "cell_type": "code",
      "execution_count": 89,
      "id": "1b02b2c3",
      "metadata": {
        "id": "1b02b2c3",
        "colab": {
          "base_uri": "https://localhost:8080/"
        },
        "outputId": "641fadb4-6658-4992-b134-dd66170e35ad"
      },
      "outputs": [
        {
          "output_type": "execute_result",
          "data": {
            "text/plain": [
              "array([[0, 0, 0, 0, 0],\n",
              "       [1, 0, 0, 0, 0],\n",
              "       [0, 2, 0, 0, 0],\n",
              "       [0, 0, 3, 0, 0],\n",
              "       [0, 0, 0, 4, 0]])"
            ]
          },
          "metadata": {},
          "execution_count": 89
        }
      ],
      "source": [
        "data=np.diag([1,2,3,4],-1)\n",
        "data"
      ]
    },
    {
      "cell_type": "markdown",
      "id": "b1457d54",
      "metadata": {
        "id": "b1457d54"
      },
      "source": [
        "# Create a 8x8 matrix and fill it with a checkerboard pattern \n"
      ]
    },
    {
      "cell_type": "code",
      "execution_count": 90,
      "id": "8507b403",
      "metadata": {
        "id": "8507b403",
        "colab": {
          "base_uri": "https://localhost:8080/"
        },
        "outputId": "58dbc7b3-e3ec-426c-bcab-ad04f8a8b01a"
      },
      "outputs": [
        {
          "output_type": "stream",
          "name": "stdout",
          "text": [
            "[[0 1 0 1 0 1 0 1]\n",
            " [1 0 1 0 1 0 1 0]\n",
            " [0 1 0 1 0 1 0 1]\n",
            " [1 0 1 0 1 0 1 0]\n",
            " [0 1 0 1 0 1 0 1]\n",
            " [1 0 1 0 1 0 1 0]\n",
            " [0 1 0 1 0 1 0 1]\n",
            " [1 0 1 0 1 0 1 0]]\n"
          ]
        }
      ],
      "source": [
        "Z = np.zeros((8,8),dtype=int)\n",
        "Z[1::2,::2] = 1\n",
        "Z[::2,1::2] = 1\n",
        "print(Z)"
      ]
    },
    {
      "cell_type": "markdown",
      "id": "6a64f0b9",
      "metadata": {
        "id": "6a64f0b9"
      },
      "source": [
        "# Create a checkerboard 8x8 matrix using the tile function \n"
      ]
    },
    {
      "cell_type": "code",
      "source": [
        "Z = np.tile( np.array([[0,1],[1,0]]), (4,4))\n",
        "print(Z)"
      ],
      "metadata": {
        "colab": {
          "base_uri": "https://localhost:8080/"
        },
        "id": "z8suotPdv6ML",
        "outputId": "e1309038-43b6-4244-b32d-85815b3e562b"
      },
      "id": "z8suotPdv6ML",
      "execution_count": 91,
      "outputs": [
        {
          "output_type": "stream",
          "name": "stdout",
          "text": [
            "[[0 1 0 1 0 1 0 1]\n",
            " [1 0 1 0 1 0 1 0]\n",
            " [0 1 0 1 0 1 0 1]\n",
            " [1 0 1 0 1 0 1 0]\n",
            " [0 1 0 1 0 1 0 1]\n",
            " [1 0 1 0 1 0 1 0]\n",
            " [0 1 0 1 0 1 0 1]\n",
            " [1 0 1 0 1 0 1 0]]\n"
          ]
        }
      ]
    },
    {
      "cell_type": "markdown",
      "id": "fb375fdd",
      "metadata": {
        "id": "fb375fdd"
      },
      "source": [
        "# Normalize a 5x5 random matrix "
      ]
    },
    {
      "cell_type": "code",
      "execution_count": 92,
      "id": "46fb5ee8",
      "metadata": {
        "id": "46fb5ee8",
        "colab": {
          "base_uri": "https://localhost:8080/"
        },
        "outputId": "a1e26495-c98f-4662-ca95-80f5086b2e16"
      },
      "outputs": [
        {
          "output_type": "execute_result",
          "data": {
            "text/plain": [
              "array([[0.125, 0.875, 0.25 , 0.625, 1.   ],\n",
              "       [0.75 , 0.875, 0.625, 1.   , 1.   ],\n",
              "       [1.   , 0.875, 0.125, 0.   , 0.625],\n",
              "       [0.375, 1.   , 0.25 , 0.   , 0.25 ],\n",
              "       [0.625, 0.5  , 0.375, 1.   , 0.625]])"
            ]
          },
          "metadata": {},
          "execution_count": 92
        }
      ],
      "source": [
        "data=np.random.randint(10,20,(5,5))\n",
        "normatrix=((data-(data.min()))/((data.max())-(data.min())))\n",
        "normatrix"
      ]
    },
    {
      "cell_type": "markdown",
      "id": "3473ca92",
      "metadata": {
        "id": "3473ca92"
      },
      "source": [
        "# Create a custom dtype that describes a color as four unsigned bytes (RGBA) "
      ]
    },
    {
      "cell_type": "code",
      "execution_count": 93,
      "id": "6ea4b5f6",
      "metadata": {
        "id": "6ea4b5f6",
        "colab": {
          "base_uri": "https://localhost:8080/"
        },
        "outputId": "a96edbbc-03c6-444e-9666-97a39a0bcd6e"
      },
      "outputs": [
        {
          "output_type": "stream",
          "name": "stderr",
          "text": [
            "<ipython-input-93-42443a84e1a2>:1: FutureWarning: Passing (type, 1) or '1type' as a synonym of type is deprecated; in a future version of numpy, it will be understood as (type, (1,)) / '(1,)type'.\n",
            "  color=np.dtype([(\"r\",np.ubyte,1),\n"
          ]
        }
      ],
      "source": [
        "color=np.dtype([(\"r\",np.ubyte,1),\n",
        "                (\"g\",np.ubyte,1),\n",
        "                (\"b\",np.ubyte,1),\n",
        "                (\"a\",np.ubyte,1)])"
      ]
    },
    {
      "cell_type": "markdown",
      "id": "0bf91a85",
      "metadata": {
        "id": "0bf91a85"
      },
      "source": [
        "# Multiply a 5x3 matrix by a 3x2 matrix (real matrix product) "
      ]
    },
    {
      "cell_type": "code",
      "execution_count": 94,
      "id": "a1d402f9",
      "metadata": {
        "id": "a1d402f9",
        "colab": {
          "base_uri": "https://localhost:8080/"
        },
        "outputId": "f3f9a8b4-913e-43e9-da14-3a890c228600"
      },
      "outputs": [
        {
          "output_type": "execute_result",
          "data": {
            "text/plain": [
              "array([[132,  90],\n",
              "       [154, 109],\n",
              "       [156, 108],\n",
              "       [154, 107],\n",
              "       [156, 110]])"
            ]
          },
          "metadata": {},
          "execution_count": 94
        }
      ],
      "source": [
        "x=np.random.randint(10,20,(5,3))\n",
        "y=np.random.randint(1,5,(3,2))\n",
        "np.dot(x,y)"
      ]
    },
    {
      "cell_type": "markdown",
      "id": "e5814c27",
      "metadata": {
        "id": "e5814c27"
      },
      "source": [
        "# Given a 1D array, negate all elements which are between 3 and 8, in place. "
      ]
    },
    {
      "cell_type": "code",
      "execution_count": 95,
      "id": "c672ff75",
      "metadata": {
        "id": "c672ff75",
        "colab": {
          "base_uri": "https://localhost:8080/"
        },
        "outputId": "3f7a833c-f528-4d17-9cb3-8911ac460567"
      },
      "outputs": [
        {
          "output_type": "execute_result",
          "data": {
            "text/plain": [
              "array([ 0,  1,  2,  3, -4, -5, -6, -7,  8,  9, 10, 11])"
            ]
          },
          "metadata": {},
          "execution_count": 95
        }
      ],
      "source": [
        "data=np.arange(12)\n",
        "data[(3<data)&(data<8)]*=-1\n",
        "data"
      ]
    },
    {
      "cell_type": "markdown",
      "id": "3e8df4ab",
      "metadata": {
        "id": "3e8df4ab"
      },
      "source": [
        "# What is the output of the following script? "
      ]
    },
    {
      "cell_type": "raw",
      "id": "1ba8e2e0",
      "metadata": {
        "id": "1ba8e2e0"
      },
      "source": [
        "print(sum(range(5),-1))\n",
        "from numpy import *\n",
        "print(sum(range(5),-1))"
      ]
    },
    {
      "cell_type": "code",
      "execution_count": 131,
      "id": "13618d9a",
      "metadata": {
        "id": "13618d9a",
        "colab": {
          "base_uri": "https://localhost:8080/"
        },
        "outputId": "0f694172-c67c-470a-867c-011e95ac38b4"
      },
      "outputs": [
        {
          "output_type": "stream",
          "name": "stdout",
          "text": [
            "10\n"
          ]
        }
      ],
      "source": [
        "#print(sum(range(5),-1))\n",
        "from numpy import *\n",
        "print(sum(range(5),-1))"
      ]
    },
    {
      "cell_type": "markdown",
      "id": "97025303",
      "metadata": {
        "id": "97025303"
      },
      "source": [
        "# Consider an integer vector Z, which of these expressions are legal? "
      ]
    },
    {
      "cell_type": "raw",
      "id": "374eb7eb",
      "metadata": {
        "id": "374eb7eb"
      },
      "source": [
        "Z**Z\n",
        "2 << Z >> 2\n",
        "Z <- Z\n",
        "1j*Z\n",
        "Z/1/1\n",
        "Z<Z>Z"
      ]
    },
    {
      "cell_type": "code",
      "execution_count": 98,
      "id": "bee75137",
      "metadata": {
        "id": "bee75137",
        "colab": {
          "base_uri": "https://localhost:8080/"
        },
        "outputId": "d8e8eadc-f889-48dd-a9ed-482fe65f5b9d"
      },
      "outputs": [
        {
          "output_type": "stream",
          "name": "stdout",
          "text": [
            "[           1            4           27          256         3125\n",
            "        46656       823543     16777216    387420489  10000000000\n",
            " 285311670611]\n",
            "[   1    2    4    8   16   32   64  128  256  512 1024]\n",
            "[False False False False False False False False False False False]\n",
            "[0. +1.j 0. +2.j 0. +3.j 0. +4.j 0. +5.j 0. +6.j 0. +7.j 0. +8.j 0. +9.j\n",
            " 0.+10.j 0.+11.j]\n",
            "[ 1.  2.  3.  4.  5.  6.  7.  8.  9. 10. 11.]\n"
          ]
        }
      ],
      "source": [
        "z=np.arange(1,12)\n",
        "print(z**z)\n",
        "print(2<<z>>2)\n",
        "print(z<-z)\n",
        "print(1j*z)\n",
        "print(z/1/1)\n",
        "#print(z<z>z) # It is not legal"
      ]
    },
    {
      "cell_type": "markdown",
      "id": "4b4634f5",
      "metadata": {
        "id": "4b4634f5"
      },
      "source": [
        "# What are the result of the following expressions? \n"
      ]
    },
    {
      "cell_type": "raw",
      "id": "ca85772d",
      "metadata": {
        "id": "ca85772d"
      },
      "source": [
        "np.array(0) / np.array(0)\n",
        "np.array(0) // np.array(0)\n",
        "np.array([np.nan]).astype(int).astype(float)"
      ]
    },
    {
      "cell_type": "code",
      "execution_count": 99,
      "id": "1a96744f",
      "metadata": {
        "id": "1a96744f",
        "colab": {
          "base_uri": "https://localhost:8080/"
        },
        "outputId": "0b3e5f74-ef0f-46ff-c7b3-607615b44571"
      },
      "outputs": [
        {
          "output_type": "stream",
          "name": "stdout",
          "text": [
            "nan\n",
            "0\n",
            "[-9.22337204e+18]\n"
          ]
        },
        {
          "output_type": "stream",
          "name": "stderr",
          "text": [
            "<ipython-input-99-2a10de0ee61b>:1: RuntimeWarning: invalid value encountered in true_divide\n",
            "  print(np.array(0) / np.array(0))\n",
            "<ipython-input-99-2a10de0ee61b>:2: RuntimeWarning: divide by zero encountered in floor_divide\n",
            "  print(np.array(0) // np.array(0))\n"
          ]
        }
      ],
      "source": [
        "print(np.array(0) / np.array(0))\n",
        "print(np.array(0) // np.array(0))\n",
        "print(np.array([np.nan]).astype(int).astype(float))"
      ]
    },
    {
      "cell_type": "markdown",
      "id": "a39c16a8",
      "metadata": {
        "id": "a39c16a8"
      },
      "source": [
        "# How to find common values between two arrays? \n"
      ]
    },
    {
      "cell_type": "code",
      "execution_count": 100,
      "id": "bd6215b3",
      "metadata": {
        "id": "bd6215b3",
        "colab": {
          "base_uri": "https://localhost:8080/"
        },
        "outputId": "76ede6eb-0b6e-438a-b5fe-62034c5d6957"
      },
      "outputs": [
        {
          "output_type": "execute_result",
          "data": {
            "text/plain": [
              "array([ 3,  4, 56, 67])"
            ]
          },
          "metadata": {},
          "execution_count": 100
        }
      ],
      "source": [
        "arr1=np.array([2,3,4,56,67])\n",
        "arr2=np.array([56,57,58,67,3,4,5])\n",
        "arr=intersect1d(arr1,arr2,assume_unique=True)\n",
        "arr"
      ]
    },
    {
      "cell_type": "markdown",
      "id": "0893a811",
      "metadata": {
        "id": "0893a811"
      },
      "source": [
        "# How to ignore all numpy warnings (not recommended)? "
      ]
    },
    {
      "cell_type": "code",
      "execution_count": 101,
      "id": "6fde8e78",
      "metadata": {
        "id": "6fde8e78"
      },
      "outputs": [],
      "source": [
        "# Suicide mode on\n",
        "defaults = np.seterr(all=\"ignore\")\n",
        "Z = np.ones(1) / 0\n",
        "\n",
        "# Back to sanity\n",
        "_ = np.seterr(**defaults)\n",
        "\n",
        "# Equivalently with a context manager\n",
        "with np.errstate(all=\"ignore\"):\n",
        "    np.arange(3) / 0"
      ]
    },
    {
      "cell_type": "markdown",
      "id": "795b925c",
      "metadata": {
        "id": "795b925c"
      },
      "source": [
        "# Is the following expressions true? \n"
      ]
    },
    {
      "cell_type": "raw",
      "id": "38745d7b",
      "metadata": {
        "id": "38745d7b"
      },
      "source": [
        "np.sqrt(-1) == np.emath.sqrt(-1)"
      ]
    },
    {
      "cell_type": "code",
      "execution_count": 102,
      "id": "eda3b5b4",
      "metadata": {
        "id": "eda3b5b4",
        "colab": {
          "base_uri": "https://localhost:8080/"
        },
        "outputId": "988cb2b5-bb0d-4926-ec62-9573d49739f4"
      },
      "outputs": [
        {
          "output_type": "stream",
          "name": "stderr",
          "text": [
            "<ipython-input-102-16339fbc685e>:1: RuntimeWarning: invalid value encountered in sqrt\n",
            "  np.sqrt(-1) == np.emath.sqrt(-1)\n"
          ]
        },
        {
          "output_type": "execute_result",
          "data": {
            "text/plain": [
              "False"
            ]
          },
          "metadata": {},
          "execution_count": 102
        }
      ],
      "source": [
        "np.sqrt(-1) == np.emath.sqrt(-1)"
      ]
    },
    {
      "cell_type": "markdown",
      "id": "4b4d2255",
      "metadata": {
        "id": "4b4d2255"
      },
      "source": [
        "# How to get the dates of yesterday, today and tomorrow? "
      ]
    },
    {
      "cell_type": "code",
      "execution_count": 104,
      "id": "ae284286",
      "metadata": {
        "id": "ae284286",
        "colab": {
          "base_uri": "https://localhost:8080/"
        },
        "outputId": "76bd0608-716e-40ce-8db2-f3a59463d719"
      },
      "outputs": [
        {
          "output_type": "stream",
          "name": "stdout",
          "text": [
            "Yesterday 2023-05-13\n",
            "Today 2023-05-14\n",
            "Tomorrow 2023-05-15\n"
          ]
        }
      ],
      "source": [
        "from datetime import datetime\n",
        "yesterday=np.datetime64('today','D')-np.timedelta64(1,'D')\n",
        "Today=np.datetime64('today','D')\n",
        "Tomorrow=np.datetime64('today','D')+np.timedelta64(1,'D')\n",
        "print(\"Yesterday\",yesterday)\n",
        "print(\"Today\",Today)\n",
        "print(\"Tomorrow\",Tomorrow)"
      ]
    },
    {
      "cell_type": "markdown",
      "id": "1301097b",
      "metadata": {
        "id": "1301097b"
      },
      "source": [
        "# How to get all the dates corresponding to the month of July 2016? \n"
      ]
    },
    {
      "cell_type": "code",
      "execution_count": 103,
      "id": "bbc450c5",
      "metadata": {
        "id": "bbc450c5",
        "colab": {
          "base_uri": "https://localhost:8080/"
        },
        "outputId": "34d5c27f-58e9-4430-fc41-5bf59c9e2886"
      },
      "outputs": [
        {
          "output_type": "execute_result",
          "data": {
            "text/plain": [
              "array(['2016-07-01', '2016-07-02', '2016-07-03', '2016-07-04',\n",
              "       '2016-07-05', '2016-07-06', '2016-07-07', '2016-07-08',\n",
              "       '2016-07-09', '2016-07-10', '2016-07-11', '2016-07-12',\n",
              "       '2016-07-13', '2016-07-14', '2016-07-15', '2016-07-16',\n",
              "       '2016-07-17', '2016-07-18', '2016-07-19', '2016-07-20',\n",
              "       '2016-07-21', '2016-07-22', '2016-07-23', '2016-07-24',\n",
              "       '2016-07-25', '2016-07-26', '2016-07-27', '2016-07-28',\n",
              "       '2016-07-29', '2016-07-30', '2016-07-31'], dtype='datetime64[D]')"
            ]
          },
          "metadata": {},
          "execution_count": 103
        }
      ],
      "source": [
        "import numpy as np\n",
        "date = np.array('2016-07-01', dtype=np.datetime64)\n",
        "date\n",
        "np.arange(31)\n",
        "date + np.arange(31)"
      ]
    },
    {
      "cell_type": "markdown",
      "id": "c4700fd8",
      "metadata": {
        "id": "c4700fd8"
      },
      "source": [
        "# Extract the integer part of a random array of positive numbers using 4 different methods "
      ]
    },
    {
      "cell_type": "code",
      "execution_count": 105,
      "id": "02194cd2",
      "metadata": {
        "id": "02194cd2",
        "colab": {
          "base_uri": "https://localhost:8080/"
        },
        "outputId": "faee4d64-30ad-45f7-8ca0-644d0ff5b97f"
      },
      "outputs": [
        {
          "output_type": "stream",
          "name": "stdout",
          "text": [
            "[4. 5. 1. 3. 1. 7. 4. 4. 8. 5.]\n",
            "[4. 5. 1. 3. 1. 7. 4. 4. 8. 5.]\n",
            "[4. 5. 1. 3. 1. 7. 4. 4. 8. 5.]\n",
            "[4 5 1 3 1 7 4 4 8 5]\n",
            "[4. 5. 1. 3. 1. 7. 4. 4. 8. 5.]\n"
          ]
        }
      ],
      "source": [
        "Z = np.random.uniform(0,10,10)\n",
        "\n",
        "print(Z - Z%1)\n",
        "print(Z // 1)\n",
        "print(np.floor(Z))\n",
        "print(Z.astype(int))\n",
        "print(np.trunc(Z))"
      ]
    },
    {
      "cell_type": "markdown",
      "id": "d4a9aea5",
      "metadata": {
        "id": "d4a9aea5"
      },
      "source": [
        "# Create a 5x5 matrix with row values ranging from 0 to 5 \n"
      ]
    },
    {
      "cell_type": "code",
      "execution_count": 106,
      "id": "3cbd3a4b",
      "metadata": {
        "id": "3cbd3a4b",
        "colab": {
          "base_uri": "https://localhost:8080/"
        },
        "outputId": "956be189-6f84-4094-ede8-f85606dc71da"
      },
      "outputs": [
        {
          "output_type": "execute_result",
          "data": {
            "text/plain": [
              "array([[0., 1., 2., 3., 4.],\n",
              "       [0., 1., 2., 3., 4.],\n",
              "       [0., 1., 2., 3., 4.],\n",
              "       [0., 1., 2., 3., 4.],\n",
              "       [0., 1., 2., 3., 4.]])"
            ]
          },
          "metadata": {},
          "execution_count": 106
        }
      ],
      "source": [
        "data=np.zeros((5,5))\n",
        "data+=np.arange(5)\n",
        "data"
      ]
    },
    {
      "cell_type": "markdown",
      "id": "872b2ecb",
      "metadata": {
        "id": "872b2ecb"
      },
      "source": [
        "# Create a vector of size 10 with values ranging from 0 to 1, both excluded \n"
      ]
    },
    {
      "cell_type": "code",
      "execution_count": 107,
      "id": "ee9c71e6",
      "metadata": {
        "id": "ee9c71e6",
        "colab": {
          "base_uri": "https://localhost:8080/"
        },
        "outputId": "5088d648-077e-4621-ddf4-8da6b5d35509"
      },
      "outputs": [
        {
          "output_type": "execute_result",
          "data": {
            "text/plain": [
              "array([0.40909083, 0.26889202, 0.07201204, 0.41813613, 0.02575348,\n",
              "       0.29115394, 0.50350951, 0.96593307, 0.10938291, 0.67304105])"
            ]
          },
          "metadata": {},
          "execution_count": 107
        }
      ],
      "source": [
        "np.random.rand(10)"
      ]
    },
    {
      "cell_type": "markdown",
      "id": "e7479f6d",
      "metadata": {
        "id": "e7479f6d"
      },
      "source": [
        "# Create a random vector of size 20 and sort it \n"
      ]
    },
    {
      "cell_type": "code",
      "execution_count": 108,
      "id": "7658ce61",
      "metadata": {
        "id": "7658ce61",
        "colab": {
          "base_uri": "https://localhost:8080/"
        },
        "outputId": "72fb499f-b0a0-416d-bfa8-aeff13b03ab1"
      },
      "outputs": [
        {
          "output_type": "stream",
          "name": "stdout",
          "text": [
            "[ 3 11 16 15  2 12 13 16 19 14  2  7  2 15  1 15  2 13 17  1]\n"
          ]
        },
        {
          "output_type": "execute_result",
          "data": {
            "text/plain": [
              "array([ 1,  1,  2,  2,  2,  2,  3,  7, 11, 12, 13, 13, 14, 15, 15, 15, 16,\n",
              "       16, 17, 19])"
            ]
          },
          "metadata": {},
          "execution_count": 108
        }
      ],
      "source": [
        "z=np.random.randint(1,20,20)\n",
        "print(z)\n",
        "z.sort()\n",
        "z"
      ]
    },
    {
      "cell_type": "markdown",
      "id": "64feb204",
      "metadata": {
        "id": "64feb204"
      },
      "source": [
        "# How to sum a small array faster than np.sum? \n"
      ]
    },
    {
      "cell_type": "code",
      "execution_count": 109,
      "id": "ef91fe80",
      "metadata": {
        "id": "ef91fe80",
        "colab": {
          "base_uri": "https://localhost:8080/"
        },
        "outputId": "dfd25044-ad44-4fab-d955-1f6c6841fcf3"
      },
      "outputs": [
        {
          "output_type": "stream",
          "name": "stdout",
          "text": [
            "[15 15  6 12 15]\n"
          ]
        },
        {
          "output_type": "execute_result",
          "data": {
            "text/plain": [
              "63"
            ]
          },
          "metadata": {},
          "execution_count": 109
        }
      ],
      "source": [
        "arr=np.random.randint(2,20,5)\n",
        "print(arr)\n",
        "np.add.reduce(arr)"
      ]
    },
    {
      "cell_type": "markdown",
      "id": "1900a3ee",
      "metadata": {
        "id": "1900a3ee"
      },
      "source": [
        "# Consider two random array A and B, check if they are equal \n"
      ]
    },
    {
      "cell_type": "code",
      "execution_count": 110,
      "id": "4ddeb915",
      "metadata": {
        "id": "4ddeb915",
        "colab": {
          "base_uri": "https://localhost:8080/"
        },
        "outputId": "1c87901c-308d-4955-a13f-0f1be6297421"
      },
      "outputs": [
        {
          "output_type": "stream",
          "name": "stdout",
          "text": [
            "[9 8 4 2 1 6 8 2 5 9]\n",
            "[5 3 2 4 2 8 8 1 8 3]\n"
          ]
        },
        {
          "output_type": "execute_result",
          "data": {
            "text/plain": [
              "False"
            ]
          },
          "metadata": {},
          "execution_count": 110
        }
      ],
      "source": [
        "a=np.random.randint(1,10,10)\n",
        "print(a)\n",
        "b=np.random.randint(1,10,10)\n",
        "print(b)\n",
        "np.array_equal(a,b)"
      ]
    },
    {
      "cell_type": "markdown",
      "id": "20ce1628",
      "metadata": {
        "id": "20ce1628"
      },
      "source": [
        "# Make an array immutable (read-only) "
      ]
    },
    {
      "cell_type": "code",
      "execution_count": 111,
      "id": "afbeb011",
      "metadata": {
        "id": "afbeb011",
        "colab": {
          "base_uri": "https://localhost:8080/",
          "height": 232
        },
        "outputId": "e4bc070d-807a-4a96-c540-e183627b4b7f"
      },
      "outputs": [
        {
          "output_type": "stream",
          "name": "stdout",
          "text": [
            "[4 5 1 5]\n"
          ]
        },
        {
          "output_type": "error",
          "ename": "ValueError",
          "evalue": "ignored",
          "traceback": [
            "\u001b[0;31m---------------------------------------------------------------------------\u001b[0m",
            "\u001b[0;31mValueError\u001b[0m                                Traceback (most recent call last)",
            "\u001b[0;32m<ipython-input-111-5b290fb458c4>\u001b[0m in \u001b[0;36m<cell line: 4>\u001b[0;34m()\u001b[0m\n\u001b[1;32m      2\u001b[0m \u001b[0ma\u001b[0m\u001b[0;34m.\u001b[0m\u001b[0mflags\u001b[0m\u001b[0;34m.\u001b[0m\u001b[0mwriteable\u001b[0m\u001b[0;34m=\u001b[0m\u001b[0;32mFalse\u001b[0m\u001b[0;34m\u001b[0m\u001b[0;34m\u001b[0m\u001b[0m\n\u001b[1;32m      3\u001b[0m \u001b[0mprint\u001b[0m\u001b[0;34m(\u001b[0m\u001b[0ma\u001b[0m\u001b[0;34m)\u001b[0m\u001b[0;34m\u001b[0m\u001b[0;34m\u001b[0m\u001b[0m\n\u001b[0;32m----> 4\u001b[0;31m \u001b[0ma\u001b[0m\u001b[0;34m[\u001b[0m\u001b[0;36m3\u001b[0m\u001b[0;34m]\u001b[0m\u001b[0;34m=\u001b[0m\u001b[0;36m6\u001b[0m\u001b[0;34m\u001b[0m\u001b[0;34m\u001b[0m\u001b[0m\n\u001b[0m\u001b[1;32m      5\u001b[0m \u001b[0mprint\u001b[0m\u001b[0;34m(\u001b[0m\u001b[0ma\u001b[0m\u001b[0;34m)\u001b[0m\u001b[0;34m\u001b[0m\u001b[0;34m\u001b[0m\u001b[0m\n",
            "\u001b[0;31mValueError\u001b[0m: assignment destination is read-only"
          ]
        }
      ],
      "source": [
        "a=np.random.randint(1,10,4)\n",
        "a.flags.writeable=False\n",
        "print(a)\n",
        "a[3]=6\n",
        "print(a)"
      ]
    },
    {
      "cell_type": "markdown",
      "id": "56641281",
      "metadata": {
        "id": "56641281"
      },
      "source": [
        "# Consider a random 5x2 matrix representing cartesian coordinates, convert them to polar coordinates "
      ]
    },
    {
      "cell_type": "code",
      "execution_count": 112,
      "id": "ad15434a",
      "metadata": {
        "id": "ad15434a",
        "colab": {
          "base_uri": "https://localhost:8080/"
        },
        "outputId": "cca32294-f3b4-4bf7-a6f4-46ea98d64f9b"
      },
      "outputs": [
        {
          "output_type": "stream",
          "name": "stdout",
          "text": [
            "[[6 9]\n",
            " [6 1]\n",
            " [1 2]\n",
            " [8 7]\n",
            " [3 5]]\n",
            "[[10.81665383]\n",
            " [ 6.08276253]\n",
            " [ 2.23606798]\n",
            " [10.63014581]\n",
            " [ 5.83095189]]\n",
            "[[0.98279372]\n",
            " [0.16514868]\n",
            " [1.10714872]\n",
            " [0.71883   ]\n",
            " [1.03037683]]\n"
          ]
        }
      ],
      "source": [
        "np.random.seed(1)\n",
        "data=np.random.randint(1,10,(5,2))\n",
        "print(data)\n",
        "x = data[0:,0:1]\n",
        "y=data[0:,1:2]\n",
        "r=np.sqrt(x**2+y**2)\n",
        "print(r)\n",
        "w=np.arctan(y/x)\n",
        "print(w)\n",
        "\n"
      ]
    },
    {
      "cell_type": "markdown",
      "id": "5bdf4dc2",
      "metadata": {
        "id": "5bdf4dc2"
      },
      "source": [
        "# Create random vector of size 20 and replace the maximum value by 0 \n"
      ]
    },
    {
      "cell_type": "code",
      "execution_count": 113,
      "id": "7cde6746",
      "metadata": {
        "id": "7cde6746",
        "colab": {
          "base_uri": "https://localhost:8080/"
        },
        "outputId": "a3c9bf58-18d8-416e-cd05-da2e759f3bce"
      },
      "outputs": [
        {
          "output_type": "stream",
          "name": "stdout",
          "text": [
            "[38 13  9 10 12  6 16  1 17  2 13  8  7 26 21 38 19 21 12 29]\n",
            "38\n"
          ]
        },
        {
          "output_type": "execute_result",
          "data": {
            "text/plain": [
              "array([ 0, 13,  9, 10, 12,  6, 16,  1, 17,  2, 13,  8,  7, 26, 21, 38, 19,\n",
              "       21, 12, 29])"
            ]
          },
          "metadata": {},
          "execution_count": 113
        }
      ],
      "source": [
        "np.random.seed(1)\n",
        "data=np.random.randint(1,40,20)\n",
        "print(data)\n",
        "print(data.max())\n",
        "data[data.argmax()]=0\n",
        "data\n",
        "\n"
      ]
    },
    {
      "cell_type": "markdown",
      "id": "3058bd6b",
      "metadata": {
        "id": "3058bd6b"
      },
      "source": [
        "# Print the minimum and maximum representable value for each numpy scalar type "
      ]
    },
    {
      "cell_type": "code",
      "execution_count": 114,
      "id": "92333635",
      "metadata": {
        "id": "92333635",
        "colab": {
          "base_uri": "https://localhost:8080/"
        },
        "outputId": "b4d2fd74-d6f0-47d6-ceb6-8aa2d36f1d5b"
      },
      "outputs": [
        {
          "output_type": "stream",
          "name": "stdout",
          "text": [
            "127\n",
            "-128\n",
            "32767\n",
            "-32768\n",
            "2147483647\n",
            "-2147483648\n",
            "9223372036854775807\n",
            "-9223372036854775808\n",
            "3.4028235e+38\n",
            "-3.4028235e+38\n",
            "1.7976931348623157e+308\n",
            "-1.7976931348623157e+308\n"
          ]
        }
      ],
      "source": [
        "for i in (np.int8,np.int16,np.int32,np.int64):\n",
        "  print(np.iinfo(i).max)\n",
        "  print(np.iinfo(i).min)\n",
        "for i in (np.float32,np.float64):\n",
        "  print(np.finfo(i).max)\n",
        "  print(np.finfo(i).min)"
      ]
    },
    {
      "cell_type": "markdown",
      "id": "ea902cc8",
      "metadata": {
        "id": "ea902cc8"
      },
      "source": [
        "# How to print all the values of an array? \n"
      ]
    },
    {
      "cell_type": "code",
      "execution_count": 115,
      "id": "00f14e3f",
      "metadata": {
        "id": "00f14e3f",
        "colab": {
          "base_uri": "https://localhost:8080/"
        },
        "outputId": "3a208e4d-d273-4a34-d0e8-07779af697b3"
      },
      "outputs": [
        {
          "output_type": "execute_result",
          "data": {
            "text/plain": [
              "[array([3, 5, 8, 8, 2]),\n",
              " array([8, 1, 7, 8, 7]),\n",
              " array([2, 1, 2, 9, 9]),\n",
              " array([4, 9, 8, 4, 7]),\n",
              " array([6, 2, 4, 5, 9])]"
            ]
          },
          "metadata": {},
          "execution_count": 115
        }
      ],
      "source": [
        "arr=np.random.randint(1,10,(5,5))\n",
        "[i for i in arr]"
      ]
    },
    {
      "cell_type": "markdown",
      "id": "db528472",
      "metadata": {
        "id": "db528472"
      },
      "source": [
        "# How to convert a float (32 bits) array into an integer (32 bits) in place"
      ]
    },
    {
      "cell_type": "code",
      "source": [
        "arr=np.arange(1,10,dtype=float32)\n",
        "print(arr)\n",
        "arr.astype('i')"
      ],
      "metadata": {
        "colab": {
          "base_uri": "https://localhost:8080/"
        },
        "id": "gWnQmwZes6Od",
        "outputId": "c3b51952-81d0-48e3-bb93-e13a52236dff"
      },
      "id": "gWnQmwZes6Od",
      "execution_count": 116,
      "outputs": [
        {
          "output_type": "stream",
          "name": "stdout",
          "text": [
            "[1. 2. 3. 4. 5. 6. 7. 8. 9.]\n"
          ]
        },
        {
          "output_type": "execute_result",
          "data": {
            "text/plain": [
              "array([1, 2, 3, 4, 5, 6, 7, 8, 9], dtype=int32)"
            ]
          },
          "metadata": {},
          "execution_count": 116
        }
      ]
    },
    {
      "cell_type": "markdown",
      "id": "7c434cfd",
      "metadata": {
        "id": "7c434cfd"
      },
      "source": [
        "# How to randomly place p elements in a 2D array? "
      ]
    },
    {
      "cell_type": "code",
      "execution_count": 117,
      "id": "b26d275d",
      "metadata": {
        "id": "b26d275d",
        "colab": {
          "base_uri": "https://localhost:8080/"
        },
        "outputId": "5e79b511-87c6-4f62-ff25-482bbfe06c7f"
      },
      "outputs": [
        {
          "output_type": "stream",
          "name": "stdout",
          "text": [
            "[[ 0.  0.  0.  0.  0.  0.  0.  0.  0.  0.]\n",
            " [ 0.  0.  0.  0.  0.  0.  0.  0.  0.  0.]\n",
            " [ 0.  0.  0.  0.  0.  0. 10.  0.  0.  0.]\n",
            " [ 0.  0.  0.  0.  0.  0.  0.  0.  0.  0.]\n",
            " [ 0.  0.  0. 10.  0.  0.  0.  0.  0.  0.]\n",
            " [ 0.  0. 10.  0.  0.  0.  0.  0.  0.  0.]\n",
            " [ 0.  0.  0.  0.  0.  0.  0.  0.  0.  0.]\n",
            " [ 0.  0.  0.  0.  0.  0. 10.  0.  0.  0.]\n",
            " [10.  0.  0.  0.  0.  0.  0.  0.  0.  0.]\n",
            " [ 0.  0.  0.  0.  0.  0.  0.  0.  0.  0.]]\n"
          ]
        }
      ],
      "source": [
        "n = 10\n",
        "p = 5\n",
        "data= np.zeros((n,n))\n",
        "np.put(data, np.random.choice(range(n*n), p),10)\n",
        "print (data)\n"
      ]
    },
    {
      "cell_type": "markdown",
      "id": "c4bf532f",
      "metadata": {
        "id": "c4bf532f"
      },
      "source": [
        "# Subtract the mean of each row of a matrix \n"
      ]
    },
    {
      "cell_type": "code",
      "execution_count": 118,
      "id": "b55b7c6b",
      "metadata": {
        "id": "b55b7c6b",
        "colab": {
          "base_uri": "https://localhost:8080/"
        },
        "outputId": "3f501f4c-8f04-4f94-ab12-b079ea18da6a"
      },
      "outputs": [
        {
          "output_type": "stream",
          "name": "stdout",
          "text": [
            "[[6 9 6 1 1]\n",
            " [2 8 7 3 5]\n",
            " [6 3 5 3 5]\n",
            " [8 8 2 8 1]\n",
            " [7 8 7 2 1]]\n",
            "[4.6 5.  4.4 5.4 5. ]\n",
            "[[ 1.4  4.   1.6 -4.4 -4. ]\n",
            " [-2.6  3.   2.6 -2.4  0. ]\n",
            " [ 1.4 -2.   0.6 -2.4  0. ]\n",
            " [ 3.4  3.  -2.4  2.6 -4. ]\n",
            " [ 2.4  3.   2.6 -3.4 -4. ]]\n"
          ]
        }
      ],
      "source": [
        "np.random.seed(1)\n",
        "data=np.random.randint(1,10,(5,5))\n",
        "x=data.mean(axis=1)\n",
        "print(data)\n",
        "print(x)\n",
        "print((data-x))"
      ]
    },
    {
      "cell_type": "markdown",
      "id": "b5f870e8",
      "metadata": {
        "id": "b5f870e8"
      },
      "source": [
        "# How to sort an array by the nth column? "
      ]
    },
    {
      "cell_type": "code",
      "execution_count": 119,
      "id": "44cd5496",
      "metadata": {
        "id": "44cd5496",
        "colab": {
          "base_uri": "https://localhost:8080/"
        },
        "outputId": "540c4bbf-d711-4ccc-96a9-1aba7078fa03"
      },
      "outputs": [
        {
          "output_type": "stream",
          "name": "stdout",
          "text": [
            "Enter number :4\n",
            "[[2 9 9 4 9]\n",
            " [8 4 7 6 2]\n",
            " [4 5 9 2 5]\n",
            " [1 4 3 1 5]\n",
            " [3 8 8 9 7]]\n"
          ]
        },
        {
          "output_type": "execute_result",
          "data": {
            "text/plain": [
              "array([[8, 4, 7, 6, 2],\n",
              "       [4, 5, 9, 2, 5],\n",
              "       [1, 4, 3, 1, 5],\n",
              "       [3, 8, 8, 9, 7],\n",
              "       [2, 9, 9, 4, 9]])"
            ]
          },
          "metadata": {},
          "execution_count": 119
        }
      ],
      "source": [
        "n=int(input(\"Enter number :\"))\n",
        "data=np.random.randint(1,10,(5,5))\n",
        "print(data)\n",
        "data[data[:,n].argsort()]\n"
      ]
    },
    {
      "cell_type": "markdown",
      "id": "1704be44",
      "metadata": {
        "id": "1704be44"
      },
      "source": [
        "# How to tell if a given 2D array has null columns? \n"
      ]
    },
    {
      "cell_type": "code",
      "execution_count": 120,
      "id": "f01eb2ab",
      "metadata": {
        "id": "f01eb2ab",
        "colab": {
          "base_uri": "https://localhost:8080/"
        },
        "outputId": "bad011d8-6e5c-4958-a508-6f9221e7b790"
      },
      "outputs": [
        {
          "output_type": "stream",
          "name": "stdout",
          "text": [
            "[[4 8 8]\n",
            " [5 6 4]\n",
            " [7 9 1]]\n",
            "False\n"
          ]
        }
      ],
      "source": [
        "data=np.random.randint(1,10,(3,3))\n",
        "print(data)\n",
        "print((~data.any(axis=0)).any())"
      ]
    },
    {
      "cell_type": "markdown",
      "id": "44b4996b",
      "metadata": {
        "id": "44b4996b"
      },
      "source": [
        "# Considering a four dimensions array, how to get sum over the last two axis at once? "
      ]
    },
    {
      "cell_type": "code",
      "execution_count": 121,
      "id": "178208e8",
      "metadata": {
        "id": "178208e8",
        "colab": {
          "base_uri": "https://localhost:8080/"
        },
        "outputId": "01f20724-8796-4007-c9ec-14be640375c5"
      },
      "outputs": [
        {
          "output_type": "stream",
          "name": "stdout",
          "text": [
            "[[56 54 70 59]\n",
            " [60 67 59 58]\n",
            " [57 47 56 35]]\n"
          ]
        }
      ],
      "source": [
        "np.random.seed(1)\n",
        "A = np.random.randint(0,10,(3,4,3,4))\n",
        "sum = A.reshape(A.shape[:-2] + (-1,)).sum(axis=-1)\n",
        "print(sum)"
      ]
    },
    {
      "cell_type": "markdown",
      "id": "dc2e8f52",
      "metadata": {
        "id": "dc2e8f52"
      },
      "source": [
        "# How to get the diagonal of a dot product? "
      ]
    },
    {
      "cell_type": "code",
      "execution_count": 122,
      "id": "5a244fd8",
      "metadata": {
        "id": "5a244fd8",
        "colab": {
          "base_uri": "https://localhost:8080/"
        },
        "outputId": "e2b27cf2-9f95-45ef-c449-f174d7a30798"
      },
      "outputs": [
        {
          "output_type": "stream",
          "name": "stdout",
          "text": [
            "[[7 8 9]\n",
            " [5 7 0]\n",
            " [9 3 9]]\n",
            "[[1 4 4]\n",
            " [6 8 8]\n",
            " [9 2 7]]\n"
          ]
        },
        {
          "output_type": "execute_result",
          "data": {
            "text/plain": [
              "array([136,  76, 123])"
            ]
          },
          "metadata": {},
          "execution_count": 122
        }
      ],
      "source": [
        "A = np.random.randint(0,10,(3,3))\n",
        "B= np.random.randint(0,10,(3,3))\n",
        "print(A)\n",
        "print(B)\n",
        "np.diag(np.dot(A, B))\n"
      ]
    },
    {
      "cell_type": "markdown",
      "id": "3078b151",
      "metadata": {
        "id": "3078b151"
      },
      "source": [
        "# Consider the vector [1, 2, 3, 4, 5], how to build a new vector with 3 consecutive zeros interleaved between each value? "
      ]
    },
    {
      "cell_type": "code",
      "execution_count": 123,
      "id": "af0e07d5",
      "metadata": {
        "id": "af0e07d5",
        "colab": {
          "base_uri": "https://localhost:8080/"
        },
        "outputId": "087556f6-4a95-45f6-e088-b4fa40494680"
      },
      "outputs": [
        {
          "output_type": "execute_result",
          "data": {
            "text/plain": [
              "array([1., 0., 0., 0., 2., 0., 0., 0., 3., 0., 0., 0., 4., 0., 0., 0., 5.])"
            ]
          },
          "metadata": {},
          "execution_count": 123
        }
      ],
      "source": [
        "data=np.array([1,2,3,4,5])\n",
        "df=np.zeros(len(data)+(len(data)-1)*3)\n",
        "df[::4]=data\n",
        "df"
      ]
    },
    {
      "cell_type": "markdown",
      "id": "7edf759f",
      "metadata": {
        "id": "7edf759f"
      },
      "source": [
        "# Consider an array of dimension (5,5,3), how to mulitply it by an array with dimensions (5,5)? "
      ]
    },
    {
      "cell_type": "code",
      "execution_count": 124,
      "id": "8b77bcd0",
      "metadata": {
        "id": "8b77bcd0",
        "colab": {
          "base_uri": "https://localhost:8080/"
        },
        "outputId": "57f2e37f-f734-4bd4-9fbf-c42c75a3f32e"
      },
      "outputs": [
        {
          "output_type": "stream",
          "name": "stdout",
          "text": [
            "[[[2. 2. 2.]\n",
            "  [2. 2. 2.]\n",
            "  [2. 2. 2.]\n",
            "  [2. 2. 2.]\n",
            "  [2. 2. 2.]]\n",
            "\n",
            " [[2. 2. 2.]\n",
            "  [2. 2. 2.]\n",
            "  [2. 2. 2.]\n",
            "  [2. 2. 2.]\n",
            "  [2. 2. 2.]]\n",
            "\n",
            " [[2. 2. 2.]\n",
            "  [2. 2. 2.]\n",
            "  [2. 2. 2.]\n",
            "  [2. 2. 2.]\n",
            "  [2. 2. 2.]]\n",
            "\n",
            " [[2. 2. 2.]\n",
            "  [2. 2. 2.]\n",
            "  [2. 2. 2.]\n",
            "  [2. 2. 2.]\n",
            "  [2. 2. 2.]]\n",
            "\n",
            " [[2. 2. 2.]\n",
            "  [2. 2. 2.]\n",
            "  [2. 2. 2.]\n",
            "  [2. 2. 2.]\n",
            "  [2. 2. 2.]]]\n"
          ]
        }
      ],
      "source": [
        "a=np.ones((5,5,3))\n",
        "b=2*np.ones((5,5))\n",
        "print(a*b[:,:,None])"
      ]
    },
    {
      "cell_type": "markdown",
      "id": "7d04bc76",
      "metadata": {
        "id": "7d04bc76"
      },
      "source": [
        "# How to swap two rows of an array? \n"
      ]
    },
    {
      "cell_type": "code",
      "execution_count": 125,
      "id": "fe35cdf6",
      "metadata": {
        "id": "fe35cdf6",
        "colab": {
          "base_uri": "https://localhost:8080/"
        },
        "outputId": "d3bdae8a-306b-43a9-9cf5-a1ab61efd836"
      },
      "outputs": [
        {
          "output_type": "stream",
          "name": "stdout",
          "text": [
            "[[6 6 5]\n",
            " [6 9 6]\n",
            " [9 2 2]]\n",
            "[[9 2 2]\n",
            " [6 9 6]\n",
            " [6 6 5]]\n"
          ]
        }
      ],
      "source": [
        "data=np.random.randint(1,10,(3,3))\n",
        "print(data)\n",
        "data[[0,2]]=data[[2,0]]\n",
        "print(data)"
      ]
    },
    {
      "cell_type": "markdown",
      "id": "a581d865",
      "metadata": {
        "id": "a581d865"
      },
      "source": [
        "# Consider an array Z = [1,2,3,4,5,6,7,8,9,10,11,12,13,14], how to generate an array R = [[1,2,3,4], [2,3,4,5], [3,4,5,6], ..., [11,12,13,14]]? "
      ]
    },
    {
      "cell_type": "code",
      "execution_count": 126,
      "id": "a3c714fc",
      "metadata": {
        "id": "a3c714fc",
        "colab": {
          "base_uri": "https://localhost:8080/"
        },
        "outputId": "b79256da-3940-4178-ec5b-c4f2b1cc46bb"
      },
      "outputs": [
        {
          "output_type": "stream",
          "name": "stdout",
          "text": [
            "[[ 1  2  3  4]\n",
            " [ 2  3  4  5]\n",
            " [ 3  4  5  6]\n",
            " [ 4  5  6  7]\n",
            " [ 5  6  7  8]\n",
            " [ 6  7  8  9]\n",
            " [ 7  8  9 10]\n",
            " [ 8  9 10 11]\n",
            " [ 9 10 11 12]\n",
            " [10 11 12 13]\n",
            " [11 12 13 14]]\n"
          ]
        }
      ],
      "source": [
        "Z = np.arange(1,15,dtype=uint32)\n",
        "R = np.lib.stride_tricks.as_strided(Z,(11,4),(4,4))\n",
        "print(R)"
      ]
    },
    {
      "cell_type": "markdown",
      "id": "913f065a",
      "metadata": {
        "id": "913f065a"
      },
      "source": [
        "# Compute a matrix rank "
      ]
    },
    {
      "cell_type": "code",
      "execution_count": 127,
      "id": "e788eb15",
      "metadata": {
        "id": "e788eb15",
        "colab": {
          "base_uri": "https://localhost:8080/"
        },
        "outputId": "27b0dd14-94d2-4ceb-e08d-c5e2200bbc50"
      },
      "outputs": [
        {
          "output_type": "execute_result",
          "data": {
            "text/plain": [
              "5"
            ]
          },
          "metadata": {},
          "execution_count": 127
        }
      ],
      "source": [
        "data=np.random.randint(1,10,(5,5))\n",
        "np.linalg.matrix_rank(data)"
      ]
    },
    {
      "cell_type": "markdown",
      "id": "11ea221d",
      "metadata": {
        "id": "11ea221d"
      },
      "source": [
        "# How to find the most frequent value in an array?\n"
      ]
    },
    {
      "cell_type": "code",
      "execution_count": 128,
      "id": "6e29f506",
      "metadata": {
        "id": "6e29f506",
        "colab": {
          "base_uri": "https://localhost:8080/"
        },
        "outputId": "98357ecd-4108-4836-dd63-d40672be3019"
      },
      "outputs": [
        {
          "output_type": "stream",
          "name": "stdout",
          "text": [
            "[4 9 2 5 4 4 7 8 4 6 4 3 5 5 1 4 4 9 4 6 7 8 6 2 8 1 3 9 3 2 5 1 5 2 8 4 2\n",
            " 7 7 7 7 1 1 3 7 1 7 8 1 4]\n"
          ]
        },
        {
          "output_type": "execute_result",
          "data": {
            "text/plain": [
              "4"
            ]
          },
          "metadata": {},
          "execution_count": 128
        }
      ],
      "source": [
        "data=np.random.randint(1,10,50)\n",
        "print(data)\n",
        "a=np.bincount(data).argmax()\n",
        "a"
      ]
    },
    {
      "cell_type": "markdown",
      "id": "a960699a",
      "metadata": {
        "id": "a960699a"
      },
      "source": [
        "# How to get the n largest values of an array "
      ]
    },
    {
      "cell_type": "code",
      "execution_count": 129,
      "id": "63b061ff",
      "metadata": {
        "id": "63b061ff",
        "colab": {
          "base_uri": "https://localhost:8080/"
        },
        "outputId": "adb5d1d6-4ced-46b2-fa7e-e294bce17734"
      },
      "outputs": [
        {
          "output_type": "stream",
          "name": "stdout",
          "text": [
            "[1 4 5 8 6 4 9 9 1 7 8 6 5 6 3 6 7 7 9 8 8 8 3 7 1 6 3 2 9 6 5 2 3 1 5 8 1\n",
            " 7 3 5 4 7 8 7 4 1 7 5 8 7]\n",
            "9\n",
            "[1 1 1 1 1 1 2 2 3 3 3 3 3 4 4 4 4 5 5 5 5 5 5 6 6 6 6 6 6 7 7 7 7 7 7 7 7\n",
            " 7 8 8 8 8 8 8 8 8 9 9 9 9]\n"
          ]
        },
        {
          "output_type": "execute_result",
          "data": {
            "text/plain": [
              "array([8, 8, 8, 8, 8, 9, 9, 9, 9])"
            ]
          },
          "metadata": {},
          "execution_count": 129
        }
      ],
      "source": [
        "data=np.random.randint(1,10,50)\n",
        "print(data)\n",
        "n=int(input())\n",
        "print(data[data.argsort()])\n",
        "data[data.argsort()][-n:]"
      ]
    },
    {
      "cell_type": "code",
      "execution_count": 129,
      "id": "1c52c225",
      "metadata": {
        "id": "1c52c225"
      },
      "outputs": [],
      "source": []
    },
    {
      "cell_type": "code",
      "execution_count": 129,
      "id": "f5a0d68b",
      "metadata": {
        "id": "f5a0d68b"
      },
      "outputs": [],
      "source": []
    },
    {
      "cell_type": "code",
      "execution_count": 129,
      "id": "297e0bc3",
      "metadata": {
        "id": "297e0bc3"
      },
      "outputs": [],
      "source": []
    },
    {
      "cell_type": "code",
      "execution_count": 129,
      "id": "10d62a35",
      "metadata": {
        "id": "10d62a35"
      },
      "outputs": [],
      "source": []
    },
    {
      "cell_type": "code",
      "execution_count": 129,
      "id": "dbbbec97",
      "metadata": {
        "id": "dbbbec97"
      },
      "outputs": [],
      "source": []
    },
    {
      "cell_type": "code",
      "execution_count": 129,
      "id": "4f95af30",
      "metadata": {
        "id": "4f95af30"
      },
      "outputs": [],
      "source": []
    },
    {
      "cell_type": "code",
      "execution_count": 129,
      "id": "a13881ec",
      "metadata": {
        "id": "a13881ec"
      },
      "outputs": [],
      "source": []
    },
    {
      "cell_type": "code",
      "execution_count": 129,
      "id": "04bac3b1",
      "metadata": {
        "id": "04bac3b1"
      },
      "outputs": [],
      "source": []
    },
    {
      "cell_type": "code",
      "execution_count": 129,
      "id": "30566cf7",
      "metadata": {
        "id": "30566cf7"
      },
      "outputs": [],
      "source": []
    },
    {
      "cell_type": "code",
      "execution_count": null,
      "id": "ca301bc7",
      "metadata": {
        "id": "ca301bc7"
      },
      "outputs": [],
      "source": []
    },
    {
      "cell_type": "code",
      "execution_count": null,
      "id": "8b0454e0",
      "metadata": {
        "id": "8b0454e0"
      },
      "outputs": [],
      "source": []
    },
    {
      "cell_type": "code",
      "execution_count": null,
      "id": "65fc8f2e",
      "metadata": {
        "id": "65fc8f2e"
      },
      "outputs": [],
      "source": []
    },
    {
      "cell_type": "code",
      "execution_count": null,
      "id": "20463db9",
      "metadata": {
        "id": "20463db9"
      },
      "outputs": [],
      "source": []
    },
    {
      "cell_type": "code",
      "execution_count": null,
      "id": "2eb83d6c",
      "metadata": {
        "id": "2eb83d6c"
      },
      "outputs": [],
      "source": []
    },
    {
      "cell_type": "code",
      "execution_count": null,
      "id": "c50866b6",
      "metadata": {
        "id": "c50866b6"
      },
      "outputs": [],
      "source": []
    },
    {
      "cell_type": "code",
      "execution_count": null,
      "id": "43f224c3",
      "metadata": {
        "id": "43f224c3"
      },
      "outputs": [],
      "source": []
    },
    {
      "cell_type": "code",
      "execution_count": null,
      "id": "d9828282",
      "metadata": {
        "id": "d9828282"
      },
      "outputs": [],
      "source": []
    },
    {
      "cell_type": "code",
      "execution_count": null,
      "id": "3e8a7272",
      "metadata": {
        "id": "3e8a7272"
      },
      "outputs": [],
      "source": []
    },
    {
      "cell_type": "code",
      "execution_count": null,
      "id": "c6259444",
      "metadata": {
        "id": "c6259444"
      },
      "outputs": [],
      "source": []
    },
    {
      "cell_type": "code",
      "execution_count": null,
      "id": "6a74cc9b",
      "metadata": {
        "id": "6a74cc9b"
      },
      "outputs": [],
      "source": []
    },
    {
      "cell_type": "code",
      "execution_count": null,
      "id": "936215b7",
      "metadata": {
        "id": "936215b7"
      },
      "outputs": [],
      "source": []
    },
    {
      "cell_type": "code",
      "execution_count": null,
      "id": "c8b42b99",
      "metadata": {
        "id": "c8b42b99"
      },
      "outputs": [],
      "source": []
    },
    {
      "cell_type": "code",
      "execution_count": null,
      "id": "9c51f9bd",
      "metadata": {
        "id": "9c51f9bd"
      },
      "outputs": [],
      "source": []
    },
    {
      "cell_type": "code",
      "execution_count": null,
      "id": "7eb9b7dd",
      "metadata": {
        "id": "7eb9b7dd"
      },
      "outputs": [],
      "source": []
    },
    {
      "cell_type": "code",
      "execution_count": null,
      "id": "88c0b8fd",
      "metadata": {
        "id": "88c0b8fd"
      },
      "outputs": [],
      "source": []
    },
    {
      "cell_type": "code",
      "execution_count": null,
      "id": "1faaac70",
      "metadata": {
        "id": "1faaac70"
      },
      "outputs": [],
      "source": []
    },
    {
      "cell_type": "code",
      "execution_count": null,
      "id": "907c16dd",
      "metadata": {
        "id": "907c16dd"
      },
      "outputs": [],
      "source": []
    },
    {
      "cell_type": "code",
      "execution_count": null,
      "id": "2ab47a62",
      "metadata": {
        "id": "2ab47a62"
      },
      "outputs": [],
      "source": []
    },
    {
      "cell_type": "code",
      "execution_count": null,
      "id": "cf15f4fc",
      "metadata": {
        "id": "cf15f4fc"
      },
      "outputs": [],
      "source": []
    },
    {
      "cell_type": "code",
      "execution_count": null,
      "id": "93a38b09",
      "metadata": {
        "id": "93a38b09"
      },
      "outputs": [],
      "source": []
    },
    {
      "cell_type": "code",
      "execution_count": null,
      "id": "f2fe3d42",
      "metadata": {
        "id": "f2fe3d42"
      },
      "outputs": [],
      "source": []
    },
    {
      "cell_type": "code",
      "execution_count": null,
      "id": "4231960c",
      "metadata": {
        "id": "4231960c"
      },
      "outputs": [],
      "source": []
    },
    {
      "cell_type": "code",
      "execution_count": null,
      "id": "3f2fd7c0",
      "metadata": {
        "id": "3f2fd7c0"
      },
      "outputs": [],
      "source": []
    },
    {
      "cell_type": "code",
      "execution_count": null,
      "id": "c1e073b5",
      "metadata": {
        "id": "c1e073b5"
      },
      "outputs": [],
      "source": []
    },
    {
      "cell_type": "code",
      "execution_count": null,
      "id": "5226ed8d",
      "metadata": {
        "id": "5226ed8d"
      },
      "outputs": [],
      "source": []
    },
    {
      "cell_type": "code",
      "execution_count": null,
      "id": "9e5823d2",
      "metadata": {
        "id": "9e5823d2"
      },
      "outputs": [],
      "source": []
    },
    {
      "cell_type": "code",
      "execution_count": null,
      "id": "71e87874",
      "metadata": {
        "id": "71e87874"
      },
      "outputs": [],
      "source": []
    },
    {
      "cell_type": "code",
      "execution_count": null,
      "id": "01747236",
      "metadata": {
        "id": "01747236"
      },
      "outputs": [],
      "source": []
    },
    {
      "cell_type": "code",
      "execution_count": null,
      "id": "e8ceb9c1",
      "metadata": {
        "id": "e8ceb9c1"
      },
      "outputs": [],
      "source": []
    },
    {
      "cell_type": "code",
      "execution_count": null,
      "id": "7467a190",
      "metadata": {
        "id": "7467a190"
      },
      "outputs": [],
      "source": []
    },
    {
      "cell_type": "code",
      "execution_count": null,
      "id": "2bf45195",
      "metadata": {
        "id": "2bf45195"
      },
      "outputs": [],
      "source": []
    },
    {
      "cell_type": "code",
      "execution_count": null,
      "id": "8575126a",
      "metadata": {
        "id": "8575126a"
      },
      "outputs": [],
      "source": []
    },
    {
      "cell_type": "code",
      "execution_count": null,
      "id": "0967f9ca",
      "metadata": {
        "id": "0967f9ca"
      },
      "outputs": [],
      "source": []
    },
    {
      "cell_type": "code",
      "execution_count": null,
      "id": "918c9383",
      "metadata": {
        "id": "918c9383"
      },
      "outputs": [],
      "source": []
    },
    {
      "cell_type": "code",
      "execution_count": null,
      "id": "edbefc14",
      "metadata": {
        "id": "edbefc14"
      },
      "outputs": [],
      "source": []
    },
    {
      "cell_type": "code",
      "execution_count": null,
      "id": "0d26e36c",
      "metadata": {
        "id": "0d26e36c"
      },
      "outputs": [],
      "source": []
    },
    {
      "cell_type": "code",
      "execution_count": null,
      "id": "0e532bcd",
      "metadata": {
        "id": "0e532bcd"
      },
      "outputs": [],
      "source": []
    },
    {
      "cell_type": "code",
      "execution_count": null,
      "id": "c699bab4",
      "metadata": {
        "id": "c699bab4"
      },
      "outputs": [],
      "source": []
    },
    {
      "cell_type": "code",
      "execution_count": null,
      "id": "df58567f",
      "metadata": {
        "id": "df58567f"
      },
      "outputs": [],
      "source": []
    },
    {
      "cell_type": "code",
      "execution_count": null,
      "id": "e46fc8e7",
      "metadata": {
        "id": "e46fc8e7"
      },
      "outputs": [],
      "source": []
    },
    {
      "cell_type": "code",
      "execution_count": null,
      "id": "2027bdf1",
      "metadata": {
        "id": "2027bdf1"
      },
      "outputs": [],
      "source": []
    },
    {
      "cell_type": "code",
      "execution_count": null,
      "id": "a2b9c3db",
      "metadata": {
        "id": "a2b9c3db"
      },
      "outputs": [],
      "source": []
    },
    {
      "cell_type": "code",
      "execution_count": null,
      "id": "b138a810",
      "metadata": {
        "id": "b138a810"
      },
      "outputs": [],
      "source": []
    },
    {
      "cell_type": "code",
      "execution_count": null,
      "id": "1b4cc669",
      "metadata": {
        "id": "1b4cc669"
      },
      "outputs": [],
      "source": []
    },
    {
      "cell_type": "code",
      "execution_count": null,
      "id": "e2470b28",
      "metadata": {
        "id": "e2470b28"
      },
      "outputs": [],
      "source": []
    },
    {
      "cell_type": "code",
      "execution_count": null,
      "id": "24e265a8",
      "metadata": {
        "id": "24e265a8"
      },
      "outputs": [],
      "source": []
    },
    {
      "cell_type": "code",
      "execution_count": null,
      "id": "dd886168",
      "metadata": {
        "id": "dd886168"
      },
      "outputs": [],
      "source": []
    },
    {
      "cell_type": "code",
      "execution_count": null,
      "id": "a641c29c",
      "metadata": {
        "id": "a641c29c"
      },
      "outputs": [],
      "source": []
    },
    {
      "cell_type": "code",
      "execution_count": null,
      "id": "34391fd3",
      "metadata": {
        "id": "34391fd3"
      },
      "outputs": [],
      "source": []
    },
    {
      "cell_type": "code",
      "execution_count": null,
      "id": "4b2e676c",
      "metadata": {
        "id": "4b2e676c"
      },
      "outputs": [],
      "source": []
    },
    {
      "cell_type": "code",
      "execution_count": null,
      "id": "f57df740",
      "metadata": {
        "id": "f57df740"
      },
      "outputs": [],
      "source": []
    },
    {
      "cell_type": "code",
      "execution_count": null,
      "id": "7b2efc62",
      "metadata": {
        "id": "7b2efc62"
      },
      "outputs": [],
      "source": []
    },
    {
      "cell_type": "code",
      "execution_count": null,
      "id": "cdc029e1",
      "metadata": {
        "id": "cdc029e1"
      },
      "outputs": [],
      "source": []
    },
    {
      "cell_type": "code",
      "execution_count": null,
      "id": "5c8653e6",
      "metadata": {
        "id": "5c8653e6"
      },
      "outputs": [],
      "source": []
    },
    {
      "cell_type": "code",
      "execution_count": null,
      "id": "a37a9569",
      "metadata": {
        "id": "a37a9569"
      },
      "outputs": [],
      "source": []
    },
    {
      "cell_type": "code",
      "execution_count": null,
      "id": "1539ece4",
      "metadata": {
        "id": "1539ece4"
      },
      "outputs": [],
      "source": []
    },
    {
      "cell_type": "code",
      "execution_count": null,
      "id": "9a5564ce",
      "metadata": {
        "id": "9a5564ce"
      },
      "outputs": [],
      "source": []
    },
    {
      "cell_type": "code",
      "execution_count": null,
      "id": "90303369",
      "metadata": {
        "id": "90303369"
      },
      "outputs": [],
      "source": []
    },
    {
      "cell_type": "code",
      "execution_count": null,
      "id": "49962cbf",
      "metadata": {
        "id": "49962cbf"
      },
      "outputs": [],
      "source": []
    },
    {
      "cell_type": "code",
      "execution_count": null,
      "id": "38fc56d6",
      "metadata": {
        "id": "38fc56d6"
      },
      "outputs": [],
      "source": []
    },
    {
      "cell_type": "code",
      "execution_count": null,
      "id": "790c2e44",
      "metadata": {
        "id": "790c2e44"
      },
      "outputs": [],
      "source": []
    },
    {
      "cell_type": "code",
      "execution_count": null,
      "id": "9f008159",
      "metadata": {
        "id": "9f008159"
      },
      "outputs": [],
      "source": []
    },
    {
      "cell_type": "code",
      "execution_count": null,
      "id": "29026579",
      "metadata": {
        "id": "29026579"
      },
      "outputs": [],
      "source": []
    },
    {
      "cell_type": "code",
      "execution_count": null,
      "id": "44e1076b",
      "metadata": {
        "id": "44e1076b"
      },
      "outputs": [],
      "source": []
    },
    {
      "cell_type": "code",
      "execution_count": null,
      "id": "001b0cac",
      "metadata": {
        "id": "001b0cac"
      },
      "outputs": [],
      "source": []
    },
    {
      "cell_type": "code",
      "execution_count": null,
      "id": "12369e93",
      "metadata": {
        "id": "12369e93"
      },
      "outputs": [],
      "source": []
    },
    {
      "cell_type": "code",
      "execution_count": null,
      "id": "050ac18a",
      "metadata": {
        "id": "050ac18a"
      },
      "outputs": [],
      "source": []
    },
    {
      "cell_type": "code",
      "execution_count": null,
      "id": "bf5f5208",
      "metadata": {
        "id": "bf5f5208"
      },
      "outputs": [],
      "source": []
    },
    {
      "cell_type": "code",
      "execution_count": null,
      "id": "bbf46486",
      "metadata": {
        "id": "bbf46486"
      },
      "outputs": [],
      "source": []
    },
    {
      "cell_type": "code",
      "execution_count": null,
      "id": "6a3f25c4",
      "metadata": {
        "id": "6a3f25c4"
      },
      "outputs": [],
      "source": []
    },
    {
      "cell_type": "code",
      "execution_count": null,
      "id": "46f33e1e",
      "metadata": {
        "id": "46f33e1e"
      },
      "outputs": [],
      "source": []
    },
    {
      "cell_type": "code",
      "execution_count": null,
      "id": "d25c1be6",
      "metadata": {
        "id": "d25c1be6"
      },
      "outputs": [],
      "source": []
    },
    {
      "cell_type": "code",
      "execution_count": null,
      "id": "2bcf1f2e",
      "metadata": {
        "id": "2bcf1f2e"
      },
      "outputs": [],
      "source": []
    },
    {
      "cell_type": "code",
      "execution_count": null,
      "id": "d04efd79",
      "metadata": {
        "id": "d04efd79"
      },
      "outputs": [],
      "source": []
    },
    {
      "cell_type": "code",
      "execution_count": null,
      "id": "c1d3c04c",
      "metadata": {
        "id": "c1d3c04c"
      },
      "outputs": [],
      "source": []
    },
    {
      "cell_type": "code",
      "execution_count": null,
      "id": "1e229851",
      "metadata": {
        "id": "1e229851"
      },
      "outputs": [],
      "source": []
    },
    {
      "cell_type": "code",
      "execution_count": null,
      "id": "81bf303c",
      "metadata": {
        "id": "81bf303c"
      },
      "outputs": [],
      "source": []
    },
    {
      "cell_type": "code",
      "execution_count": null,
      "id": "9f11d353",
      "metadata": {
        "id": "9f11d353"
      },
      "outputs": [],
      "source": []
    },
    {
      "cell_type": "code",
      "execution_count": null,
      "id": "89d2e79a",
      "metadata": {
        "id": "89d2e79a"
      },
      "outputs": [],
      "source": []
    },
    {
      "cell_type": "code",
      "execution_count": null,
      "id": "a282ee4a",
      "metadata": {
        "id": "a282ee4a"
      },
      "outputs": [],
      "source": []
    },
    {
      "cell_type": "code",
      "execution_count": null,
      "id": "2c2363f8",
      "metadata": {
        "id": "2c2363f8"
      },
      "outputs": [],
      "source": []
    },
    {
      "cell_type": "code",
      "execution_count": null,
      "id": "4d97d0f1",
      "metadata": {
        "id": "4d97d0f1"
      },
      "outputs": [],
      "source": []
    },
    {
      "cell_type": "code",
      "execution_count": null,
      "id": "f855d590",
      "metadata": {
        "id": "f855d590"
      },
      "outputs": [],
      "source": []
    },
    {
      "cell_type": "code",
      "execution_count": null,
      "id": "a7970094",
      "metadata": {
        "id": "a7970094"
      },
      "outputs": [],
      "source": []
    },
    {
      "cell_type": "code",
      "execution_count": null,
      "id": "099da818",
      "metadata": {
        "id": "099da818"
      },
      "outputs": [],
      "source": []
    },
    {
      "cell_type": "code",
      "execution_count": null,
      "id": "9ad8f9f4",
      "metadata": {
        "id": "9ad8f9f4"
      },
      "outputs": [],
      "source": []
    },
    {
      "cell_type": "code",
      "execution_count": null,
      "id": "1be39a53",
      "metadata": {
        "id": "1be39a53"
      },
      "outputs": [],
      "source": []
    },
    {
      "cell_type": "code",
      "execution_count": null,
      "id": "0d406225",
      "metadata": {
        "id": "0d406225"
      },
      "outputs": [],
      "source": []
    },
    {
      "cell_type": "code",
      "execution_count": null,
      "id": "c261fa7a",
      "metadata": {
        "id": "c261fa7a"
      },
      "outputs": [],
      "source": []
    },
    {
      "cell_type": "code",
      "execution_count": null,
      "id": "7c033c74",
      "metadata": {
        "id": "7c033c74"
      },
      "outputs": [],
      "source": []
    },
    {
      "cell_type": "code",
      "execution_count": null,
      "id": "68e33139",
      "metadata": {
        "id": "68e33139"
      },
      "outputs": [],
      "source": []
    },
    {
      "cell_type": "code",
      "execution_count": null,
      "id": "597791a4",
      "metadata": {
        "id": "597791a4"
      },
      "outputs": [],
      "source": []
    },
    {
      "cell_type": "code",
      "execution_count": null,
      "id": "5f0cf28a",
      "metadata": {
        "id": "5f0cf28a"
      },
      "outputs": [],
      "source": []
    },
    {
      "cell_type": "code",
      "execution_count": null,
      "id": "2a10e2e8",
      "metadata": {
        "id": "2a10e2e8"
      },
      "outputs": [],
      "source": []
    },
    {
      "cell_type": "code",
      "execution_count": null,
      "id": "18ede8ac",
      "metadata": {
        "id": "18ede8ac"
      },
      "outputs": [],
      "source": []
    },
    {
      "cell_type": "code",
      "execution_count": null,
      "id": "709b41e0",
      "metadata": {
        "id": "709b41e0"
      },
      "outputs": [],
      "source": []
    },
    {
      "cell_type": "code",
      "execution_count": null,
      "id": "82cd0d5d",
      "metadata": {
        "id": "82cd0d5d"
      },
      "outputs": [],
      "source": []
    },
    {
      "cell_type": "code",
      "execution_count": null,
      "id": "9acb7f71",
      "metadata": {
        "id": "9acb7f71"
      },
      "outputs": [],
      "source": []
    },
    {
      "cell_type": "code",
      "execution_count": null,
      "id": "b127dc13",
      "metadata": {
        "id": "b127dc13"
      },
      "outputs": [],
      "source": []
    },
    {
      "cell_type": "code",
      "execution_count": null,
      "id": "11dc7846",
      "metadata": {
        "id": "11dc7846"
      },
      "outputs": [],
      "source": []
    },
    {
      "cell_type": "code",
      "execution_count": null,
      "id": "30d45bed",
      "metadata": {
        "id": "30d45bed"
      },
      "outputs": [],
      "source": []
    },
    {
      "cell_type": "code",
      "execution_count": null,
      "id": "7e72e116",
      "metadata": {
        "id": "7e72e116"
      },
      "outputs": [],
      "source": []
    },
    {
      "cell_type": "code",
      "execution_count": null,
      "id": "fc8edd14",
      "metadata": {
        "id": "fc8edd14"
      },
      "outputs": [],
      "source": []
    },
    {
      "cell_type": "code",
      "execution_count": null,
      "id": "6b0be5c9",
      "metadata": {
        "id": "6b0be5c9"
      },
      "outputs": [],
      "source": []
    },
    {
      "cell_type": "code",
      "execution_count": null,
      "id": "70bea7f9",
      "metadata": {
        "id": "70bea7f9"
      },
      "outputs": [],
      "source": []
    },
    {
      "cell_type": "code",
      "execution_count": null,
      "id": "e92f8be4",
      "metadata": {
        "id": "e92f8be4"
      },
      "outputs": [],
      "source": []
    },
    {
      "cell_type": "code",
      "execution_count": null,
      "id": "b4a60306",
      "metadata": {
        "id": "b4a60306"
      },
      "outputs": [],
      "source": []
    },
    {
      "cell_type": "code",
      "execution_count": null,
      "id": "c2485934",
      "metadata": {
        "id": "c2485934"
      },
      "outputs": [],
      "source": []
    },
    {
      "cell_type": "code",
      "execution_count": null,
      "id": "e115b805",
      "metadata": {
        "id": "e115b805"
      },
      "outputs": [],
      "source": []
    },
    {
      "cell_type": "code",
      "execution_count": null,
      "id": "99ac7ecf",
      "metadata": {
        "id": "99ac7ecf"
      },
      "outputs": [],
      "source": []
    },
    {
      "cell_type": "code",
      "execution_count": null,
      "id": "9be4f9a3",
      "metadata": {
        "id": "9be4f9a3"
      },
      "outputs": [],
      "source": []
    },
    {
      "cell_type": "code",
      "execution_count": null,
      "id": "34b07046",
      "metadata": {
        "id": "34b07046"
      },
      "outputs": [],
      "source": []
    },
    {
      "cell_type": "code",
      "execution_count": null,
      "id": "ab1fa346",
      "metadata": {
        "id": "ab1fa346"
      },
      "outputs": [],
      "source": []
    }
  ],
  "metadata": {
    "hide_input": false,
    "kernelspec": {
      "display_name": "Python 3 (ipykernel)",
      "language": "python",
      "name": "python3"
    },
    "language_info": {
      "codemirror_mode": {
        "name": "ipython",
        "version": 3
      },
      "file_extension": ".py",
      "mimetype": "text/x-python",
      "name": "python",
      "nbconvert_exporter": "python",
      "pygments_lexer": "ipython3",
      "version": "3.9.12"
    },
    "toc": {
      "base_numbering": 1,
      "nav_menu": {},
      "number_sections": true,
      "sideBar": true,
      "skip_h1_title": false,
      "title_cell": "Table of Contents",
      "title_sidebar": "Contents",
      "toc_cell": false,
      "toc_position": {},
      "toc_section_display": true,
      "toc_window_display": false
    },
    "colab": {
      "provenance": [],
      "include_colab_link": true
    }
  },
  "nbformat": 4,
  "nbformat_minor": 5
}