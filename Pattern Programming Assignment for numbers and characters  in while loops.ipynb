{
 "cells": [
  {
   "cell_type": "markdown",
   "id": "b16ab36c",
   "metadata": {},
   "source": [
    "# <h2>Pattern 1</h2>"
   ]
  },
  {
   "cell_type": "code",
   "execution_count": 1,
   "id": "562c92c6",
   "metadata": {},
   "outputs": [
    {
     "name": "stdout",
     "output_type": "stream",
     "text": [
      "1 \n",
      "1 2 \n",
      "1 2 3 \n",
      "1 2 3 4 \n",
      "1 2 3 4 5 \n"
     ]
    }
   ],
   "source": [
    "i=1\n",
    "while(i<=5):\n",
    "    j=1\n",
    "    while(j<=i):\n",
    "        print(j,end=\" \")\n",
    "        j+=1\n",
    "    print()\n",
    "    i+=1"
   ]
  },
  {
   "cell_type": "markdown",
   "id": "1b989e59",
   "metadata": {},
   "source": [
    "<h2>Pattern 2</h2>"
   ]
  },
  {
   "cell_type": "code",
   "execution_count": 2,
   "id": "78977171",
   "metadata": {},
   "outputs": [
    {
     "name": "stdout",
     "output_type": "stream",
     "text": [
      "A \n",
      "A B \n",
      "A B C \n",
      "A B C D \n",
      "A B C D E \n"
     ]
    }
   ],
   "source": [
    "i=65\n",
    "while(i<=69):\n",
    "    j=65\n",
    "    while(j<=i):\n",
    "        print(chr(j),end=\" \")\n",
    "        j+=1\n",
    "    print()\n",
    "    i+=1"
   ]
  },
  {
   "cell_type": "markdown",
   "id": "97603cf8",
   "metadata": {},
   "source": [
    "<h2>Pattern 3</h2>"
   ]
  },
  {
   "cell_type": "code",
   "execution_count": 3,
   "id": "2049d186",
   "metadata": {},
   "outputs": [
    {
     "name": "stdout",
     "output_type": "stream",
     "text": [
      " *\n",
      " * *\n",
      " * * *\n",
      " * * * *\n",
      " * * * * *\n"
     ]
    }
   ],
   "source": [
    "i=1\n",
    "while(i<=5):\n",
    "    print(i*\" *\")\n",
    "    i+=1"
   ]
  },
  {
   "cell_type": "markdown",
   "id": "bd38302b",
   "metadata": {},
   "source": [
    "<h2>Pattern 4</h2>"
   ]
  },
  {
   "cell_type": "code",
   "execution_count": 4,
   "id": "b8a1115c",
   "metadata": {},
   "outputs": [
    {
     "name": "stdout",
     "output_type": "stream",
     "text": [
      "1 \n",
      "2 2 \n",
      "3 3 3 \n",
      "4 4 4 4 \n",
      "5 5 5 5 5 \n"
     ]
    }
   ],
   "source": [
    "i=1\n",
    "while(i<=5):\n",
    "    j=1\n",
    "    while(j<=i):\n",
    "        print(i,end=\" \")\n",
    "        j+=1\n",
    "    print()\n",
    "    i+=1"
   ]
  },
  {
   "cell_type": "markdown",
   "id": "a2f22a72",
   "metadata": {},
   "source": [
    "<h2>Pattern 5</h2>"
   ]
  },
  {
   "cell_type": "code",
   "execution_count": 5,
   "id": "b2048ebf",
   "metadata": {},
   "outputs": [
    {
     "name": "stdout",
     "output_type": "stream",
     "text": [
      "A \n",
      "B B \n",
      "C C C \n",
      "D D D D \n",
      "E E E E E \n"
     ]
    }
   ],
   "source": [
    "i=65\n",
    "while(i<=69):\n",
    "    j=65\n",
    "    while(j<=i):\n",
    "        print(chr(i),end=\" \")\n",
    "        j+=1\n",
    "    print()\n",
    "    i+=1"
   ]
  },
  {
   "cell_type": "markdown",
   "id": "89aa775f",
   "metadata": {},
   "source": [
    "<h2>Pattern 6</h2>"
   ]
  },
  {
   "cell_type": "code",
   "execution_count": 6,
   "id": "06d60a79",
   "metadata": {},
   "outputs": [
    {
     "name": "stdout",
     "output_type": "stream",
     "text": [
      "         *\n",
      "       * *\n",
      "     * * *\n",
      "   * * * *\n",
      " * * * * *\n"
     ]
    }
   ],
   "source": [
    "i=1\n",
    "while(i<=5):\n",
    "        print((5-i)*\"  \"+(i*\" *\"))\n",
    "        i+=1"
   ]
  },
  {
   "cell_type": "markdown",
   "id": "1160bf26",
   "metadata": {},
   "source": [
    "<h2>Pattern 7</h2>"
   ]
  },
  {
   "cell_type": "code",
   "execution_count": 7,
   "id": "d525838d",
   "metadata": {},
   "outputs": [
    {
     "name": "stdout",
     "output_type": "stream",
     "text": [
      "    1      \n",
      "   1 2     \n",
      "  1 2 3    \n",
      " 1 2 3 4   \n",
      "1 2 3 4 5  \n"
     ]
    }
   ],
   "source": [
    "s=\"\"\n",
    "i=1\n",
    "while(i<=5):\n",
    "    j=i\n",
    "    while(j<=i):\n",
    "        s=s+str(j)+\" \" \n",
    "        j+=1\n",
    "    print(s.center(10,\" \"),end=\" \")        \n",
    "    print()\n",
    "    i+=1\n",
    "\n"
   ]
  },
  {
   "cell_type": "markdown",
   "id": "ad10b044",
   "metadata": {},
   "source": [
    "<h2>Pattern 8</h2>"
   ]
  },
  {
   "cell_type": "code",
   "execution_count": 2,
   "id": "faab9733",
   "metadata": {},
   "outputs": [
    {
     "name": "stdout",
     "output_type": "stream",
     "text": [
      "    5     \n",
      "   4 5    \n",
      "  3 4 5   \n",
      " 2 3 4 5  \n",
      "1 2 3 4 5 \n"
     ]
    }
   ],
   "source": [
    "s=\"\"\n",
    "i=5\n",
    "while(i):\n",
    "    j=i\n",
    "    while(j<6):\n",
    "        s=s+str(j)+\" \"\n",
    "        j+=1\n",
    "    print(s.center(10,\" \"))\n",
    "    s=\"\"\n",
    "    i-=1"
   ]
  },
  {
   "cell_type": "markdown",
   "id": "6d8eb10c",
   "metadata": {},
   "source": [
    "<h2>Pattern 9</h2>"
   ]
  },
  {
   "cell_type": "code",
   "execution_count": 3,
   "id": "758f66f3",
   "metadata": {},
   "outputs": [
    {
     "name": "stdout",
     "output_type": "stream",
     "text": [
      "    A     \n",
      "   A B    \n",
      "  A B C   \n",
      " A B C D  \n",
      "A B C D E \n"
     ]
    }
   ],
   "source": [
    "s=\"\"\n",
    "i=65\n",
    "while(i<=69):\n",
    "    j=65\n",
    "    while(j<=i):\n",
    "        s=s+chr(j)+\" \"\n",
    "        j+=1\n",
    "    print(s.center(10,\" \"))\n",
    "    s=\"\"\n",
    "    i+=1"
   ]
  },
  {
   "cell_type": "markdown",
   "id": "42afd82c",
   "metadata": {},
   "source": [
    "<h2>Pattern 10</h2>"
   ]
  },
  {
   "cell_type": "code",
   "execution_count": 1,
   "id": "c42a76ee",
   "metadata": {},
   "outputs": [
    {
     "name": "stdout",
     "output_type": "stream",
     "text": [
      "    E     \n",
      "   D E    \n",
      "  C D E   \n",
      " B C D E  \n",
      "A B C D E \n"
     ]
    }
   ],
   "source": [
    "s=\"\"\n",
    "i=69\n",
    "while(i<=69):\n",
    "    j=i\n",
    "    if(i<65):\n",
    "        break\n",
    "    while(j<=69):\n",
    "        s=s+chr(j)+\" \"\n",
    "        j+=1\n",
    "    print(s.center(10,\" \"))\n",
    "    s=\"\"\n",
    "    i-=1"
   ]
  },
  {
   "cell_type": "markdown",
   "id": "595eca81",
   "metadata": {},
   "source": [
    "<h2>Pattern 11</h2>"
   ]
  },
  {
   "cell_type": "code",
   "execution_count": 3,
   "id": "d1033477",
   "metadata": {},
   "outputs": [
    {
     "name": "stdout",
     "output_type": "stream",
     "text": [
      "    *     \n",
      "   ***    \n",
      "  *****   \n",
      " *******  \n",
      "********* \n"
     ]
    }
   ],
   "source": [
    "s=\"\"\n",
    "i=1\n",
    "while(i<10):\n",
    "    if(i%2!=0):\n",
    "        s=i*\"*\"\n",
    "        print(s.center(10,\" \"))\n",
    "    i+=1"
   ]
  },
  {
   "cell_type": "markdown",
   "id": "b7f1f5f2",
   "metadata": {},
   "source": [
    "<h2>Pattern 12</h2>"
   ]
  },
  {
   "cell_type": "code",
   "execution_count": 2,
   "id": "f188e149",
   "metadata": {},
   "outputs": [
    {
     "name": "stdout",
     "output_type": "stream",
     "text": [
      "    1     \n",
      "   2 2    \n",
      "  3 3 3   \n",
      " 4 4 4 4  \n",
      "5 5 5 5 5 \n"
     ]
    }
   ],
   "source": [
    "s=\"\"\n",
    "i=1\n",
    "while(i<=5):\n",
    "    j=1\n",
    "    while(j<=i):\n",
    "        s=s+str(i)+\" \"\n",
    "        j+=1\n",
    "    print(s.center(10,\" \"))\n",
    "    s=\"\"\n",
    "    i+=1"
   ]
  },
  {
   "cell_type": "markdown",
   "id": "06ae4b8b",
   "metadata": {},
   "source": [
    "<h2>Pattern 13</h2>"
   ]
  },
  {
   "cell_type": "code",
   "execution_count": 5,
   "id": "d4a0cd2d",
   "metadata": {},
   "outputs": [
    {
     "name": "stdout",
     "output_type": "stream",
     "text": [
      "    A     \n",
      "   B B    \n",
      "  C C C   \n",
      " D D D D  \n",
      "E E E E E \n"
     ]
    }
   ],
   "source": [
    "s=\"\"\n",
    "i=65\n",
    "while(i<=69):\n",
    "    j=65\n",
    "    if(i>69):\n",
    "        break\n",
    "    while(j<=i):\n",
    "        s=s+chr(i)+\" \"\n",
    "        j+=1\n",
    "    print(s.center(10,\" \"))\n",
    "    s=\"\"\n",
    "    i+=1"
   ]
  },
  {
   "cell_type": "markdown",
   "id": "d20f34de",
   "metadata": {},
   "source": [
    "<h2>Pattern 14</h2>"
   ]
  },
  {
   "cell_type": "code",
   "execution_count": 7,
   "id": "3b530ef1",
   "metadata": {},
   "outputs": [
    {
     "name": "stdout",
     "output_type": "stream",
     "text": [
      "1 2 3 4 5 \n",
      "1 2 3 4 \n",
      "1 2 3 \n",
      "1 2 \n",
      "1 \n"
     ]
    }
   ],
   "source": [
    "i=5\n",
    "while(i):\n",
    "    j=1\n",
    "    while(j<=i):\n",
    "        print(j,end=\" \")\n",
    "        j+=1\n",
    "    print()\n",
    "    i-=1"
   ]
  },
  {
   "cell_type": "markdown",
   "id": "7af8dbbb",
   "metadata": {},
   "source": [
    "<h2>Pattern 15</h2>"
   ]
  },
  {
   "cell_type": "code",
   "execution_count": 2,
   "id": "21d393ee",
   "metadata": {},
   "outputs": [
    {
     "name": "stdout",
     "output_type": "stream",
     "text": [
      "5 4 3 2 1 \n",
      "5 4 3 2 \n",
      "5 4 3 \n",
      "5 4 \n",
      "5 \n",
      "\n"
     ]
    }
   ],
   "source": [
    "i=0\n",
    "while(i<=5):\n",
    "    j=5\n",
    "    while(j>i):\n",
    "        print(j,end=\" \")\n",
    "        j-=1\n",
    "    print()\n",
    "    i+=1"
   ]
  },
  {
   "cell_type": "markdown",
   "id": "a6117cf2",
   "metadata": {},
   "source": [
    "<h2>Pattern 16</h2>"
   ]
  },
  {
   "cell_type": "code",
   "execution_count": 9,
   "id": "40868fc8",
   "metadata": {},
   "outputs": [
    {
     "name": "stdout",
     "output_type": "stream",
     "text": [
      "5 \n",
      "5 4 \n",
      "5 4 3 \n",
      "5 4 3 2 \n",
      "5 4 3 2 1 \n"
     ]
    }
   ],
   "source": [
    "i=1\n",
    "while(i<=5):\n",
    "    j=5\n",
    "    while(j>5-i):\n",
    "        print(j,end=\" \")\n",
    "        j-=1\n",
    "    print()\n",
    "    i+=1"
   ]
  },
  {
   "cell_type": "markdown",
   "id": "b58a108b",
   "metadata": {},
   "source": [
    "<h2>Pattern 17</h2>"
   ]
  },
  {
   "cell_type": "code",
   "execution_count": 10,
   "id": "c37b8e89",
   "metadata": {},
   "outputs": [
    {
     "name": "stdout",
     "output_type": "stream",
     "text": [
      "1 \n",
      "2 3 \n",
      "4 5 6 \n",
      "7 8 9 10 \n",
      "11 12 13 14 15 \n"
     ]
    }
   ],
   "source": [
    "k=0\n",
    "i=1\n",
    "while(i<=5):\n",
    "    j=1\n",
    "    while(j<=i):\n",
    "        k+=1\n",
    "        print(k,end=\" \")\n",
    "        j+=1\n",
    "    print()\n",
    "    i+=1"
   ]
  },
  {
   "cell_type": "markdown",
   "id": "8bbaeafa",
   "metadata": {},
   "source": [
    "<h2>Pattern 18</h2>"
   ]
  },
  {
   "cell_type": "code",
   "execution_count": 12,
   "id": "c6394c7a",
   "metadata": {},
   "outputs": [
    {
     "name": "stdout",
     "output_type": "stream",
     "text": [
      "A B C D E \n",
      "A B C D \n",
      "A B C \n",
      "A B \n",
      "A \n"
     ]
    }
   ],
   "source": [
    "i=1\n",
    "while(i<=5):\n",
    "    j=65\n",
    "    while(j<=70-i):\n",
    "        print(chr(j),end=\" \")\n",
    "        j+=1\n",
    "    print()\n",
    "    i+=1\n",
    "        "
   ]
  }
 ],
 "metadata": {
  "kernelspec": {
   "display_name": "Python 3 (ipykernel)",
   "language": "python",
   "name": "python3"
  },
  "language_info": {
   "codemirror_mode": {
    "name": "ipython",
    "version": 3
   },
   "file_extension": ".py",
   "mimetype": "text/x-python",
   "name": "python",
   "nbconvert_exporter": "python",
   "pygments_lexer": "ipython3",
   "version": "3.9.12"
  }
 },
 "nbformat": 4,
 "nbformat_minor": 5
}
