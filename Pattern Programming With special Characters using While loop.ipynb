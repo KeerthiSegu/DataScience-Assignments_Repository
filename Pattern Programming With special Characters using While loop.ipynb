{
 "cells": [
  {
   "cell_type": "markdown",
   "id": "6a798623",
   "metadata": {},
   "source": [
    "<h2>Pattern 2</h2>"
   ]
  },
  {
   "cell_type": "code",
   "execution_count": 1,
   "id": "d334d669",
   "metadata": {},
   "outputs": [
    {
     "name": "stdout",
     "output_type": "stream",
     "text": [
      "*****\n",
      "****\n",
      "***\n",
      "**\n",
      "*\n"
     ]
    }
   ],
   "source": [
    "i=5\n",
    "while(i):\n",
    "    print(i*\"*\")\n",
    "    i-=1"
   ]
  },
  {
   "cell_type": "markdown",
   "id": "cd86b130",
   "metadata": {},
   "source": [
    "<h2>Pattern 3</h2>"
   ]
  },
  {
   "cell_type": "code",
   "execution_count": 2,
   "id": "b6dc0d56",
   "metadata": {},
   "outputs": [
    {
     "name": "stdout",
     "output_type": "stream",
     "text": [
      "    *\n",
      "   **\n",
      "  ***\n",
      " ****\n",
      "*****\n"
     ]
    }
   ],
   "source": [
    "i=1\n",
    "while(i<=5):\n",
    "    print((5-i)*\" \"+i*\"*\")\n",
    "    i+=1"
   ]
  },
  {
   "cell_type": "markdown",
   "id": "fe18561a",
   "metadata": {},
   "source": [
    "<h2>Pattern 4</h2>"
   ]
  },
  {
   "cell_type": "code",
   "execution_count": 3,
   "id": "b14714f2",
   "metadata": {},
   "outputs": [
    {
     "name": "stdout",
     "output_type": "stream",
     "text": [
      "*****\n",
      " ****\n",
      "  ***\n",
      "   **\n",
      "    *\n"
     ]
    }
   ],
   "source": [
    "i=5\n",
    "while(i):\n",
    "    print((5-i)*\" \"+i*\"*\")\n",
    "    i-=1"
   ]
  },
  {
   "cell_type": "markdown",
   "id": "9dcc1458",
   "metadata": {},
   "source": [
    "<h2>Pattern 5</h2>"
   ]
  },
  {
   "cell_type": "code",
   "execution_count": 4,
   "id": "61f29cf2",
   "metadata": {},
   "outputs": [
    {
     "name": "stdout",
     "output_type": "stream",
     "text": [
      "*\n",
      "**\n",
      "***\n",
      "****\n",
      "*****\n",
      "****\n",
      "***\n",
      "**\n",
      "*\n"
     ]
    }
   ],
   "source": [
    "i=1\n",
    "while(i<=5):\n",
    "    print(i*\"*\")\n",
    "    i+=1\n",
    "i=4\n",
    "while(i):\n",
    "    print(i*\"*\")\n",
    "    i-=1"
   ]
  },
  {
   "cell_type": "markdown",
   "id": "284f0669",
   "metadata": {},
   "source": [
    "<h2>Pattern 6</h2>"
   ]
  },
  {
   "cell_type": "code",
   "execution_count": 5,
   "id": "beec98a4",
   "metadata": {},
   "outputs": [
    {
     "name": "stdout",
     "output_type": "stream",
     "text": [
      "*****\n",
      "****\n",
      "***\n",
      "**\n",
      "*\n",
      "**\n",
      "***\n",
      "****\n",
      "*****\n"
     ]
    }
   ],
   "source": [
    "i=5\n",
    "while(i):\n",
    "    print(i*\"*\")\n",
    "    i-=1\n",
    "i=2\n",
    "while(i<=5):\n",
    "    print(i*\"*\")\n",
    "    i+=1"
   ]
  },
  {
   "cell_type": "markdown",
   "id": "8626ca1c",
   "metadata": {},
   "source": [
    "<h2>Pattern 7</h2>"
   ]
  },
  {
   "cell_type": "code",
   "execution_count": 6,
   "id": "6ce93e38",
   "metadata": {},
   "outputs": [
    {
     "name": "stdout",
     "output_type": "stream",
     "text": [
      "    *\n",
      "   **\n",
      "  ***\n",
      " ****\n",
      "*****\n",
      " ****\n",
      "  ***\n",
      "   **\n",
      "    *\n"
     ]
    }
   ],
   "source": [
    "i=1\n",
    "while(i<=5):\n",
    "    print((5-i)*\" \"+i*\"*\")\n",
    "    i+=1\n",
    "i=4\n",
    "while(i):\n",
    "    print((5-i)*\" \"+i*\"*\")\n",
    "    i-=1"
   ]
  },
  {
   "cell_type": "markdown",
   "id": "6edfd855",
   "metadata": {},
   "source": [
    "<h2>Pattern 8</h2>"
   ]
  },
  {
   "cell_type": "code",
   "execution_count": 7,
   "id": "5637ca02",
   "metadata": {},
   "outputs": [
    {
     "name": "stdout",
     "output_type": "stream",
     "text": [
      "*****\n",
      " ****\n",
      "  ***\n",
      "   **\n",
      "    *\n",
      "   **\n",
      "  ***\n",
      " ****\n",
      "*****\n"
     ]
    }
   ],
   "source": [
    "i=5\n",
    "while(i):\n",
    "    print((5-i)*\" \"+i*\"*\")\n",
    "    i-=1\n",
    "i=2\n",
    "while(i<=5):\n",
    "    print((5-i)*\" \"+i*\"*\")\n",
    "    i+=1"
   ]
  },
  {
   "cell_type": "markdown",
   "id": "97350b50",
   "metadata": {},
   "source": [
    "<h2>Pattern 9</h2>"
   ]
  },
  {
   "cell_type": "code",
   "execution_count": 8,
   "id": "96aaa267",
   "metadata": {},
   "outputs": [
    {
     "name": "stdout",
     "output_type": "stream",
     "text": [
      "    *     \n",
      "   ***    \n",
      "  *****   \n",
      " *******  \n",
      "********* \n"
     ]
    }
   ],
   "source": [
    "s=\"\"\n",
    "i=1\n",
    "while(i<10):\n",
    "    if(i%2!=0):\n",
    "        s=i*\"*\"\n",
    "        print(s.center(10,\" \"))\n",
    "    i+=1"
   ]
  },
  {
   "cell_type": "markdown",
   "id": "68799533",
   "metadata": {},
   "source": [
    "<h2>Pattern 12</h2>"
   ]
  },
  {
   "cell_type": "code",
   "execution_count": 9,
   "id": "2deda741",
   "metadata": {},
   "outputs": [
    {
     "name": "stdout",
     "output_type": "stream",
     "text": [
      "********* \n",
      " *******  \n",
      "  *****   \n",
      "   ***    \n",
      "    *     \n",
      "   ***    \n",
      "  *****   \n",
      " *******  \n",
      "********* \n"
     ]
    }
   ],
   "source": [
    "s=\"\"\n",
    "i=9\n",
    "while(i):\n",
    "    if(i%2!=0):\n",
    "        s=i*\"*\"\n",
    "        print(s.center(10,\" \"))\n",
    "    i-=1\n",
    "s=\"\"\n",
    "i=2\n",
    "while(i<10):\n",
    "    if(i%2!=0):\n",
    "        s=i*\"*\"\n",
    "        print(s.center(10,\" \"))\n",
    "    i+=1"
   ]
  },
  {
   "cell_type": "markdown",
   "id": "844b774c",
   "metadata": {},
   "source": [
    "<h2>Pattern 13</h2>"
   ]
  },
  {
   "cell_type": "code",
   "execution_count": 10,
   "id": "5d41034e",
   "metadata": {},
   "outputs": [
    {
     "name": "stdout",
     "output_type": "stream",
     "text": [
      "*        *\n",
      "**      **\n",
      "***    ***\n",
      "****  ****\n",
      "**********\n"
     ]
    }
   ],
   "source": [
    "i=1\n",
    "while(i<=5):\n",
    "    print(i*\"*\"+(10-2*i)*\" \"+i*\"*\")\n",
    "    i+=1"
   ]
  },
  {
   "cell_type": "markdown",
   "id": "72324367",
   "metadata": {},
   "source": [
    "<h2>Pattern 14</h2>"
   ]
  },
  {
   "cell_type": "code",
   "execution_count": 11,
   "id": "e20772de",
   "metadata": {},
   "outputs": [
    {
     "name": "stdout",
     "output_type": "stream",
     "text": [
      "**********\n",
      "****  ****\n",
      "***    ***\n",
      "**      **\n",
      "*        *\n"
     ]
    }
   ],
   "source": [
    "i=5\n",
    "while(i):\n",
    "    print(i*\"*\"+(10-2*i)*\" \"+i*\"*\")\n",
    "    i-=1"
   ]
  },
  {
   "cell_type": "markdown",
   "id": "309ee4d4",
   "metadata": {},
   "source": [
    "<h2>Pattern 15</h2>"
   ]
  },
  {
   "cell_type": "code",
   "execution_count": 12,
   "id": "d073a696",
   "metadata": {},
   "outputs": [
    {
     "name": "stdout",
     "output_type": "stream",
     "text": [
      "*        *\n",
      "**      **\n",
      "***    ***\n",
      "****  ****\n",
      "**********\n",
      "****  ****\n",
      "***    ***\n",
      "**      **\n",
      "*        *\n"
     ]
    }
   ],
   "source": [
    "i=1\n",
    "while(i<=5):\n",
    "    print(i*\"*\"+(10-2*i)*\" \"+i*\"*\")\n",
    "    i+=1\n",
    "i=4\n",
    "while(i):\n",
    "    print(i*\"*\"+(10-2*i)*\" \"+i*\"*\")\n",
    "    i-=1"
   ]
  },
  {
   "cell_type": "markdown",
   "id": "105c988b",
   "metadata": {},
   "source": [
    "<h2>Pattern 16</h2>"
   ]
  },
  {
   "cell_type": "code",
   "execution_count": 13,
   "id": "29e12af2",
   "metadata": {},
   "outputs": [
    {
     "name": "stdout",
     "output_type": "stream",
     "text": [
      "**********\n",
      "****  ****\n",
      "***    ***\n",
      "**      **\n",
      "*        *\n",
      "*        *\n",
      "**      **\n",
      "***    ***\n",
      "****  ****\n",
      "**********\n"
     ]
    }
   ],
   "source": [
    "i=5\n",
    "while(i):\n",
    "    print(i*\"*\"+(10-2*i)*\" \"+i*\"*\")\n",
    "    i-=1\n",
    "i=1\n",
    "while(i<=5):\n",
    "    print(i*\"*\"+(10-2*i)*\" \"+i*\"*\")\n",
    "    i+=1"
   ]
  },
  {
   "cell_type": "markdown",
   "id": "70b3f864",
   "metadata": {},
   "source": [
    "<h2>Pattern 17</h2>"
   ]
  },
  {
   "cell_type": "code",
   "execution_count": 14,
   "id": "7da6b303",
   "metadata": {},
   "outputs": [
    {
     "name": "stdout",
     "output_type": "stream",
     "text": [
      "*\n",
      "**\n",
      "* *\n",
      "*  *\n",
      "*****\n"
     ]
    }
   ],
   "source": [
    "i=1\n",
    "while(i<=5):\n",
    "    if((i>1) and (i<5)):\n",
    "        print(\"*\"+(i-2)*\" \"+\"*\")\n",
    "    else:\n",
    "        print(i*\"*\")\n",
    "    i+=1"
   ]
  },
  {
   "cell_type": "markdown",
   "id": "90474d42",
   "metadata": {},
   "source": [
    "<h2>Pattern 18</h2>"
   ]
  },
  {
   "cell_type": "code",
   "execution_count": 15,
   "id": "ff779241",
   "metadata": {},
   "outputs": [
    {
     "name": "stdout",
     "output_type": "stream",
     "text": [
      "*****\n",
      "*  *\n",
      "* *\n",
      "**\n",
      "*\n"
     ]
    }
   ],
   "source": [
    "i=5\n",
    "while(i):\n",
    "    if((i>1) and (i<5)):\n",
    "        print(\"*\"+(i-2)*\" \"+\"*\")\n",
    "    else:\n",
    "        print(i*\"*\")\n",
    "    i-=1"
   ]
  },
  {
   "cell_type": "markdown",
   "id": "9f211605",
   "metadata": {},
   "source": [
    "<h2>Pattern 19</h2>"
   ]
  },
  {
   "cell_type": "code",
   "execution_count": 16,
   "id": "6e83d5e6",
   "metadata": {},
   "outputs": [
    {
     "name": "stdout",
     "output_type": "stream",
     "text": [
      "    *\n",
      "   **\n",
      "  * *\n",
      " *  *\n",
      "*****\n"
     ]
    }
   ],
   "source": [
    "i=1\n",
    "while(i<=5):\n",
    "    if((i>1) and (i<5)):\n",
    "        print((5-i)*\" \"+\"*\"+(i-2)*\" \"+\"*\")\n",
    "    else:\n",
    "        print((5-i)*\" \"+i*\"*\")\n",
    "    i+=1"
   ]
  },
  {
   "cell_type": "markdown",
   "id": "d4d06cf3",
   "metadata": {},
   "source": [
    "<h2>Pattern 22</h2>"
   ]
  },
  {
   "cell_type": "code",
   "execution_count": 17,
   "id": "b648f3f5",
   "metadata": {},
   "outputs": [
    {
     "name": "stdout",
     "output_type": "stream",
     "text": [
      "*****\n",
      "*  *\n",
      "* *\n",
      "**\n",
      "*\n",
      "**\n",
      "* *\n",
      "*  *\n",
      "*****\n"
     ]
    }
   ],
   "source": [
    "i=5\n",
    "while(i):\n",
    "    if((i>1) and (i<5)):\n",
    "        print(\"*\"+(i-2)*\" \"+\"*\")\n",
    "    else:\n",
    "        print(i*\"*\")\n",
    "    i-=1\n",
    "i=2\n",
    "while(i<=5):\n",
    "    if((i>1) and (i<5)):\n",
    "        print(\"*\"+(i-2)*\" \"+\"*\")\n",
    "    else:\n",
    "        print(i*\"*\")\n",
    "    i+=1"
   ]
  },
  {
   "cell_type": "markdown",
   "id": "b5e31e83",
   "metadata": {},
   "source": [
    "<h2>Pattern 23</h2>"
   ]
  },
  {
   "cell_type": "code",
   "execution_count": 18,
   "id": "71ccb00f",
   "metadata": {},
   "outputs": [
    {
     "name": "stdout",
     "output_type": "stream",
     "text": [
      "    *\n",
      "   **\n",
      "  * *\n",
      " *  *\n",
      "*   *\n",
      " *  *\n",
      "  * *\n",
      "   **\n",
      "    *\n"
     ]
    }
   ],
   "source": [
    "i=1\n",
    "while(i<=5):\n",
    "    if((i>1) and (i<=5)):\n",
    "        print((5-i)*\" \"+\"*\"+(i-2)*\" \"+\"*\")\n",
    "    else:\n",
    "        print((5-i)*\" \"+i*\"*\")\n",
    "    i+=1\n",
    "i=4\n",
    "while(i):\n",
    "    if((i>1) and (i<5)):\n",
    "        print((5-i)*\" \"+\"*\"+(i-2)*\" \"+\"*\")\n",
    "    else:\n",
    "        print((5-i)*\" \"+i*\"*\")\n",
    "    i-=1"
   ]
  },
  {
   "cell_type": "markdown",
   "id": "466bf149",
   "metadata": {},
   "source": [
    "<h2>Pattern 24</h2>"
   ]
  },
  {
   "cell_type": "code",
   "execution_count": 19,
   "id": "37ff0103",
   "metadata": {},
   "outputs": [
    {
     "name": "stdout",
     "output_type": "stream",
     "text": [
      "*****\n",
      " *  *\n",
      "  * *\n",
      "   **\n",
      "    *\n",
      "   **\n",
      "  * *\n",
      " *  *\n",
      "*****\n"
     ]
    }
   ],
   "source": [
    "i=5\n",
    "while(i):\n",
    "    if((i>1) and (i<5)):\n",
    "        print((5-i)*\" \"+\"*\"+(i-2)*\" \"+\"*\")\n",
    "    else:\n",
    "        print((5-i)*\" \"+i*\"*\")\n",
    "    i-=1\n",
    "i=2\n",
    "while(i<=5):\n",
    "    if((i>1) and (i<5)):\n",
    "        print((5-i)*\" \"+\"*\"+(i-2)*\" \"+\"*\")\n",
    "    else:\n",
    "        print((5-i)*\" \"+i*\"*\")\n",
    "    i+=1"
   ]
  },
  {
   "cell_type": "markdown",
   "id": "a3aac93a",
   "metadata": {},
   "source": [
    "<h2>Pattern 25</h2>"
   ]
  },
  {
   "cell_type": "code",
   "execution_count": 20,
   "id": "5bc72549",
   "metadata": {},
   "outputs": [
    {
     "name": "stdout",
     "output_type": "stream",
     "text": [
      "    *     \n",
      "   * *\n",
      "  *   *\n",
      " *     *\n",
      "********* \n"
     ]
    }
   ],
   "source": [
    "k=2\n",
    "s=\"\"\n",
    "j=4\n",
    "i=1\n",
    "while(i<10):\n",
    "    if(i%2!=0):\n",
    "        if((i>2) and (i<8)):\n",
    "            print((5-k)*\" \"+\"*\"+(5-j)*\" \"+\"*\")\n",
    "            k+=1\n",
    "            j-=2\n",
    "        elif((i==1) or (i==9)):\n",
    "            s=i*\"*\"\n",
    "            print(s.center(10,\" \"))\n",
    "    i+=1\n",
    "        "
   ]
  },
  {
   "cell_type": "markdown",
   "id": "91578c64",
   "metadata": {},
   "source": [
    "<h2>Pattern 26</h2>"
   ]
  },
  {
   "cell_type": "code",
   "execution_count": null,
   "id": "d604a1d3",
   "metadata": {},
   "outputs": [
    {
     "name": "stdout",
     "output_type": "stream",
     "text": [
      "********* \n",
      " *     *\n",
      "  *   *\n",
      "   * *\n",
      "    *     \n"
     ]
    }
   ],
   "source": [
    "k=4\n",
    "s=\"\"\n",
    "j=0\n",
    "i=9\n",
    "while(i<10):\n",
    "    if(i%2!=0):\n",
    "        if((i>2) and (i<8)):\n",
    "            print((5-k)*\" \"+\"*\"+(5-j)*\" \"+\"*\")\n",
    "            k-=1\n",
    "            j+=2\n",
    "        elif((i==1) or (i==9)):\n",
    "            s=i*\"*\"\n",
    "            print(s.center(10,\" \"))\n",
    "    i-=1"
   ]
  },
  {
   "cell_type": "markdown",
   "id": "fbc8a710",
   "metadata": {},
   "source": [
    "<h2>Pattern 27</h2>"
   ]
  },
  {
   "cell_type": "code",
   "execution_count": null,
   "id": "de2e6b50",
   "metadata": {},
   "outputs": [
    {
     "name": "stdout",
     "output_type": "stream",
     "text": [
      "    *     \n",
      "   * *\n",
      "  *   *\n",
      " *     *\n",
      "*       *\n",
      " *     *\n",
      "  *   *\n",
      "   * *\n",
      "    *     \n"
     ]
    }
   ],
   "source": [
    "k=2\n",
    "s=\"\"\n",
    "j=4\n",
    "i=1\n",
    "while(i<10):\n",
    "    if(i%2!=0):\n",
    "        if((i>2) and (i<=9)):\n",
    "            print((5-k)*\" \"+\"*\"+(5-j)*\" \"+\"*\")\n",
    "            k+=1\n",
    "            j-=2\n",
    "        elif(i==1):\n",
    "            s=i*\"*\"\n",
    "            print(s.center(10,\" \"))\n",
    "    i+=1\n",
    "k=4\n",
    "s=\"\"\n",
    "j=0\n",
    "i=9\n",
    "while(i<10):\n",
    "    if(i%2!=0):\n",
    "        if((i>2) and (i<8)):\n",
    "            print((5-k)*\" \"+\"*\"+(5-j)*\" \"+\"*\")\n",
    "            k-=1\n",
    "            j+=2\n",
    "        elif(i==1):\n",
    "            s=i*\"*\"\n",
    "            print(s.center(10,\" \"))\n",
    "    i-=1"
   ]
  },
  {
   "cell_type": "markdown",
   "id": "ddddd702",
   "metadata": {},
   "source": [
    "<h2>Pattern 28</h2>"
   ]
  },
  {
   "cell_type": "code",
   "execution_count": 1,
   "id": "32fb74bf",
   "metadata": {},
   "outputs": [
    {
     "name": "stdout",
     "output_type": "stream",
     "text": [
      "********* \n",
      " *     *\n",
      "  *   *\n",
      "   * *\n",
      "    *     \n",
      "   * *\n",
      "  *   *\n",
      " *     *\n",
      "********* \n"
     ]
    }
   ],
   "source": [
    "k=4\n",
    "s=\"\"\n",
    "j=0\n",
    "i=9\n",
    "while(i):\n",
    "    if(i%2!=0):\n",
    "        if((i>2) and (i<8)):\n",
    "            print((5-k)*\" \"+\"*\"+(5-j)*\" \"+\"*\")\n",
    "            k-=1\n",
    "            j+=2\n",
    "        elif((i==1) or (i==9)):\n",
    "            s=i*\"*\"\n",
    "            print(s.center(10,\" \"))\n",
    "    i-=1\n",
    "k=2\n",
    "s=\"\"\n",
    "j=4\n",
    "i=2\n",
    "while(i<10):\n",
    "    if(i%2!=0):\n",
    "        if((i>2) and (i<8)):\n",
    "            print((5-k)*\" \"+\"*\"+(5-j)*\" \"+\"*\")\n",
    "            k+=1\n",
    "            j-=2\n",
    "        elif((i==1) or (i==9)):\n",
    "            s=i*\"*\"\n",
    "            print(s.center(10,\" \"))\n",
    "    i+=1\n",
    "        "
   ]
  },
  {
   "cell_type": "markdown",
   "id": "bb8474e0",
   "metadata": {},
   "source": [
    "<h2>Pattern 29</h2>"
   ]
  },
  {
   "cell_type": "code",
   "execution_count": 2,
   "id": "95c35b69",
   "metadata": {},
   "outputs": [
    {
     "name": "stdout",
     "output_type": "stream",
     "text": [
      "*****\n",
      "*****\n",
      "*****\n",
      "*****\n",
      "*****\n"
     ]
    }
   ],
   "source": [
    "i=1\n",
    "while(i<=5):\n",
    "    print(5*\"*\")\n",
    "    i+=1"
   ]
  }
 ],
 "metadata": {
  "kernelspec": {
   "display_name": "Python 3 (ipykernel)",
   "language": "python",
   "name": "python3"
  },
  "language_info": {
   "codemirror_mode": {
    "name": "ipython",
    "version": 3
   },
   "file_extension": ".py",
   "mimetype": "text/x-python",
   "name": "python",
   "nbconvert_exporter": "python",
   "pygments_lexer": "ipython3",
   "version": "3.9.12"
  }
 },
 "nbformat": 4,
 "nbformat_minor": 5
}
